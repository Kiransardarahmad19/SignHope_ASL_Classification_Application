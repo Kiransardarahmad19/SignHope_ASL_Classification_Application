{
 "cells": [
  {
   "cell_type": "code",
   "execution_count": 9,
   "metadata": {},
   "outputs": [
    {
     "name": "stdout",
     "output_type": "stream",
     "text": [
      "Found: body/pose_deploy_linevec.prototxt\n",
      "Found: body/pose_iter_440000.caffemodel\n",
      "Found: hand/pose_deploy.prototxt\n",
      "Found: hand/pose_iter_102000.caffemodel\n",
      "Found: face/pose_deploy.prototxt\n",
      "Found: face/pose_iter_116000.caffemodel\n",
      "Keypoints saved to keypoints.npz\n"
     ]
    }
   ],
   "source": [
    "import cv2 as cv\n",
    "import numpy as np\n",
    "import os\n",
    "\n",
    "# You can replace this with hardcoded values if running directly in Jupyter Notebook\n",
    "class Args:\n",
    "    input = 'video.mp4'  # Replace with your video file path\n",
    "    output = 'keypoints.npz'  # Replace with your desired output file path\n",
    "    thr = 0.2\n",
    "    width = 368\n",
    "    height = 368\n",
    "\n",
    "args = Args()\n",
    "\n",
    "BODY_PARTS = {\"Nose\": 0, \"Neck\": 1, \"RShoulder\": 2, \"RElbow\": 3, \"RWrist\": 4,\n",
    "              \"LShoulder\": 5, \"LElbow\": 6, \"LWrist\": 7, \"RHip\": 8, \"RKnee\": 9,\n",
    "              \"RAnkle\": 10, \"LHip\": 11, \"LKnee\": 12, \"LAnkle\": 13, \"REye\": 14,\n",
    "              \"LEye\": 15, \"REar\": 16, \"LEar\": 17, \"Background\": 18}\n",
    "\n",
    "POSE_PAIRS = [[\"Neck\", \"RShoulder\"], [\"Neck\", \"LShoulder\"], [\"RShoulder\", \"RElbow\"],\n",
    "              [\"RElbow\", \"RWrist\"], [\"LShoulder\", \"LElbow\"], [\"LElbow\", \"LWrist\"],\n",
    "              [\"Neck\", \"RHip\"], [\"RHip\", \"RKnee\"], [\"RKnee\", \"RAnkle\"], [\"Neck\", \"LHip\"],\n",
    "              [\"LHip\", \"LKnee\"], [\"LKnee\", \"LAnkle\"], [\"Neck\", \"Nose\"], [\"Nose\", \"REye\"],\n",
    "              [\"REye\", \"REar\"], [\"Nose\", \"LEye\"], [\"LEye\", \"LEar\"]]\n",
    "\n",
    "HAND_PARTS = 22\n",
    "FACE_PARTS = 70\n",
    "\n",
    "# Load models\n",
    "body_proto = \"body/pose_deploy_linevec.prototxt\"\n",
    "body_model = \"body/pose_iter_440000.caffemodel\"\n",
    "hand_proto = \"hand/pose_deploy.prototxt\"\n",
    "hand_model = \"hand/pose_iter_102000.caffemodel\"\n",
    "face_proto = \"face/pose_deploy.prototxt\"\n",
    "face_model = \"face/pose_iter_116000.caffemodel\"\n",
    "\n",
    "def check_file_exists(filepath):\n",
    "    if os.path.isfile(filepath):\n",
    "        print(f\"Found: {filepath}\")\n",
    "    else:\n",
    "        print(f\"Not Found: {filepath}\")\n",
    "        raise FileNotFoundError(f\"File not found: {filepath}\")\n",
    "\n",
    "check_file_exists(body_proto)\n",
    "check_file_exists(body_model)\n",
    "check_file_exists(hand_proto)\n",
    "check_file_exists(hand_model)\n",
    "check_file_exists(face_proto)\n",
    "check_file_exists(face_model)\n",
    "\n",
    "net_body = cv.dnn.readNetFromCaffe(body_proto, body_model)\n",
    "net_hand = cv.dnn.readNetFromCaffe(hand_proto, hand_model)\n",
    "net_face = cv.dnn.readNetFromCaffe(face_proto, face_model)\n",
    "\n",
    "cap = cv.VideoCapture(args.input if args.input else 0)\n",
    "\n",
    "keypoints_data = []\n",
    "\n",
    "def get_keypoints(net, frame, width, height, threshold, num_parts):\n",
    "    net.setInput(cv.dnn.blobFromImage(frame, 1.0, (width, height), (127.5, 127.5, 127.5), swapRB=True, crop=False))\n",
    "    out = net.forward()\n",
    "    points = []\n",
    "    for i in range(num_parts):\n",
    "        heatMap = out[0, i, :, :]\n",
    "        _, conf, _, point = cv.minMaxLoc(heatMap)\n",
    "        x = (frame.shape[1] * point[0]) / out.shape[3]\n",
    "        y = (frame.shape[0] * point[1]) / out.shape[2]\n",
    "        points.append((int(x), int(y)) if conf > threshold else None)\n",
    "    return points\n",
    "\n",
    "while True:\n",
    "    hasFrame, frame = cap.read()\n",
    "    if not hasFrame:\n",
    "        break\n",
    "\n",
    "    body_keypoints = get_keypoints(net_body, frame, args.width, args.height, args.thr, len(BODY_PARTS))\n",
    "    hand_keypoints = get_keypoints(net_hand, frame, args.width, args.height, args.thr, HAND_PARTS)\n",
    "    face_keypoints = get_keypoints(net_face, frame, args.width, args.height, args.thr, FACE_PARTS)\n",
    "\n",
    "    keypoints_data.append({\n",
    "        'body': body_keypoints,\n",
    "        'hands': hand_keypoints,\n",
    "        'face': face_keypoints\n",
    "    })\n",
    "\n",
    "    # Draw keypoints\n",
    "    for pair in POSE_PAIRS:\n",
    "        partFrom = pair[0]\n",
    "        partTo = pair[1]\n",
    "        assert(partFrom in BODY_PARTS)\n",
    "        assert(partTo in BODY_PARTS)\n",
    "\n",
    "        idFrom = BODY_PARTS[partFrom]\n",
    "        idTo = BODY_PARTS[partTo]\n",
    "\n",
    "        if body_keypoints[idFrom] and body_keypoints[idTo]:\n",
    "            cv.line(frame, body_keypoints[idFrom], body_keypoints[idTo], (0, 255, 0), 3)\n",
    "            cv.ellipse(frame, body_keypoints[idFrom], (3, 3), 0, 0, 360, (0, 0, 255), cv.FILLED)\n",
    "            cv.ellipse(frame, body_keypoints[idTo], (3, 3), 0, 0, 360, (0, 0, 255), cv.FILLED)\n",
    "\n",
    "    for points in [hand_keypoints, face_keypoints]:\n",
    "        for i, point in enumerate(points):\n",
    "            if point:\n",
    "                cv.ellipse(frame, point, (3, 3), 0, 0, 360, (255, 0, 0), cv.FILLED)\n",
    "\n",
    "    t, _ = net_body.getPerfProfile()\n",
    "    freq = cv.getTickFrequency() / 1000\n",
    "    cv.putText(frame, '%.2fms' % (t / freq), (10, 20), cv.FONT_HERSHEY_SIMPLEX, 0.5, (0, 0, 0))\n",
    "\n",
    "    cv.imshow('OpenPose using OpenCV', frame)\n",
    "    if cv.waitKey(1) & 0xFF == ord('q'):\n",
    "        break\n",
    "\n",
    "cap.release()\n",
    "cv.destroyAllWindows()\n",
    "\n",
    "# Save the keypoints to a file\n",
    "np.savez(args.output, keypoints=keypoints_data)\n",
    "print(f\"Keypoints saved to {args.output}\")\n"
   ]
  },
  {
   "cell_type": "markdown",
   "metadata": {},
   "source": [
    "On dataset using open CV"
   ]
  },
  {
   "cell_type": "code",
   "execution_count": 10,
   "metadata": {},
   "outputs": [
    {
     "name": "stdout",
     "output_type": "stream",
     "text": [
      "Requirement already satisfied: tqdm in c:\\users\\hp\\appdata\\local\\programs\\python\\python310\\lib\\site-packages (4.66.4)\n",
      "Requirement already satisfied: colorama in c:\\users\\hp\\appdata\\local\\programs\\python\\python310\\lib\\site-packages (from tqdm) (0.4.6)\n",
      "Note: you may need to restart the kernel to use updated packages.\n"
     ]
    },
    {
     "name": "stderr",
     "output_type": "stream",
     "text": [
      "WARNING: Ignoring invalid distribution -pencv-python-headless (c:\\users\\hp\\appdata\\roaming\\python\\python310\\site-packages)\n",
      "WARNING: Ignoring invalid distribution -pencv-python-headless (c:\\users\\hp\\appdata\\roaming\\python\\python310\\site-packages)\n",
      "WARNING: Ignoring invalid distribution -ensorflow-intel (c:\\users\\hp\\appdata\\local\\programs\\python\\python310\\lib\\site-packages)\n",
      "WARNING: Ignoring invalid distribution -rotobuf (c:\\users\\hp\\appdata\\local\\programs\\python\\python310\\lib\\site-packages)\n",
      "WARNING: Ignoring invalid distribution -umpy (c:\\users\\hp\\appdata\\local\\programs\\python\\python310\\lib\\site-packages)\n",
      "WARNING: Ignoring invalid distribution -pencv-python-headless (c:\\users\\hp\\appdata\\roaming\\python\\python310\\site-packages)\n",
      "WARNING: Ignoring invalid distribution -ensorflow-intel (c:\\users\\hp\\appdata\\local\\programs\\python\\python310\\lib\\site-packages)\n",
      "WARNING: Ignoring invalid distribution -rotobuf (c:\\users\\hp\\appdata\\local\\programs\\python\\python310\\lib\\site-packages)\n",
      "WARNING: Ignoring invalid distribution -umpy (c:\\users\\hp\\appdata\\local\\programs\\python\\python310\\lib\\site-packages)\n",
      "WARNING: Ignoring invalid distribution -pencv-python-headless (c:\\users\\hp\\appdata\\roaming\\python\\python310\\site-packages)\n",
      "WARNING: Ignoring invalid distribution -pencv-python-headless (c:\\users\\hp\\appdata\\roaming\\python\\python310\\site-packages)\n",
      "WARNING: Ignoring invalid distribution -pencv-python-headless (c:\\users\\hp\\appdata\\roaming\\python\\python310\\site-packages)\n",
      "\n",
      "[notice] A new release of pip is available: 24.0 -> 24.1.1\n",
      "[notice] To update, run: python.exe -m pip install --upgrade pip\n"
     ]
    }
   ],
   "source": [
    "%pip install tqdm\n"
   ]
  },
  {
   "cell_type": "code",
   "execution_count": 14,
   "metadata": {},
   "outputs": [
    {
     "name": "stdout",
     "output_type": "stream",
     "text": [
      "Requirement already satisfied: joblib in c:\\users\\hp\\appdata\\local\\programs\\python\\python310\\lib\\site-packages (1.2.0)\n",
      "Note: you may need to restart the kernel to use updated packages.\n"
     ]
    },
    {
     "name": "stderr",
     "output_type": "stream",
     "text": [
      "WARNING: Ignoring invalid distribution -pencv-python-headless (c:\\users\\hp\\appdata\\roaming\\python\\python310\\site-packages)\n",
      "WARNING: Ignoring invalid distribution -pencv-python-headless (c:\\users\\hp\\appdata\\roaming\\python\\python310\\site-packages)\n",
      "WARNING: Ignoring invalid distribution -ensorflow-intel (c:\\users\\hp\\appdata\\local\\programs\\python\\python310\\lib\\site-packages)\n",
      "WARNING: Ignoring invalid distribution -rotobuf (c:\\users\\hp\\appdata\\local\\programs\\python\\python310\\lib\\site-packages)\n",
      "WARNING: Ignoring invalid distribution -umpy (c:\\users\\hp\\appdata\\local\\programs\\python\\python310\\lib\\site-packages)\n",
      "WARNING: Ignoring invalid distribution -pencv-python-headless (c:\\users\\hp\\appdata\\roaming\\python\\python310\\site-packages)\n",
      "WARNING: Ignoring invalid distribution -ensorflow-intel (c:\\users\\hp\\appdata\\local\\programs\\python\\python310\\lib\\site-packages)\n",
      "WARNING: Ignoring invalid distribution -rotobuf (c:\\users\\hp\\appdata\\local\\programs\\python\\python310\\lib\\site-packages)\n",
      "WARNING: Ignoring invalid distribution -umpy (c:\\users\\hp\\appdata\\local\\programs\\python\\python310\\lib\\site-packages)\n",
      "WARNING: Ignoring invalid distribution -pencv-python-headless (c:\\users\\hp\\appdata\\roaming\\python\\python310\\site-packages)\n",
      "WARNING: Ignoring invalid distribution -pencv-python-headless (c:\\users\\hp\\appdata\\roaming\\python\\python310\\site-packages)\n",
      "WARNING: Ignoring invalid distribution -pencv-python-headless (c:\\users\\hp\\appdata\\roaming\\python\\python310\\site-packages)\n",
      "\n",
      "[notice] A new release of pip is available: 24.0 -> 24.1.1\n",
      "[notice] To update, run: python.exe -m pip install --upgrade pip\n"
     ]
    }
   ],
   "source": [
    "%pip install joblib\n"
   ]
  },
  {
   "cell_type": "code",
   "execution_count": 16,
   "metadata": {},
   "outputs": [
    {
     "name": "stdout",
     "output_type": "stream",
     "text": [
      "Found: body/pose_deploy_linevec.prototxt\n",
      "Found: body/pose_iter_440000.caffemodel\n",
      "Found: hand/pose_deploy.prototxt\n",
      "Found: hand/pose_iter_102000.caffemodel\n",
      "Found: face/pose_deploy.prototxt\n",
      "Found: face/pose_iter_116000.caffemodel\n"
     ]
    },
    {
     "name": "stderr",
     "output_type": "stream",
     "text": [
      "Classes:   0%|          | 0/15 [00:00<?, ?it/s]"
     ]
    }
   ],
   "source": [
    "import cv2 as cv\n",
    "import numpy as np\n",
    "import os\n",
    "from tqdm import tqdm\n",
    "from joblib import Parallel, delayed\n",
    "\n",
    "# Directory structure configuration\n",
    "dataset_dir = 'wlasldaily'\n",
    "output_dir = 'keypoints_output'\n",
    "\n",
    "# Ensure the output directory exists\n",
    "os.makedirs(output_dir, exist_ok=True)\n",
    "\n",
    "BODY_PARTS = {\"Nose\": 0, \"Neck\": 1, \"RShoulder\": 2, \"RElbow\": 3, \"RWrist\": 4,\n",
    "              \"LShoulder\": 5, \"LElbow\": 6, \"LWrist\": 7, \"RHip\": 8, \"RKnee\": 9,\n",
    "              \"RAnkle\": 10, \"LHip\": 11, \"LKnee\": 12, \"LAnkle\": 13, \"REye\": 14,\n",
    "              \"LEye\": 15, \"REar\": 16, \"LEar\": 17, \"Background\": 18}\n",
    "\n",
    "POSE_PAIRS = [[\"Neck\", \"RShoulder\"], [\"Neck\", \"LShoulder\"], [\"RShoulder\", \"RElbow\"],\n",
    "              [\"RElbow\", \"RWrist\"], [\"LShoulder\", \"LElbow\"], [\"LElbow\", \"LWrist\"],\n",
    "              [\"Neck\", \"RHip\"], [\"RHip\", \"RKnee\"], [\"RKnee\", \"RAnkle\"], [\"Neck\", \"LHip\"],\n",
    "              [\"LHip\", \"LKnee\"], [\"LKnee\", \"LAnkle\"], [\"Neck\", \"Nose\"], [\"Nose\", \"REye\"],\n",
    "              [\"REye\", \"REar\"], [\"Nose\", \"LEye\"], [\"LEye\", \"LEar\"]]\n",
    "\n",
    "HAND_PARTS = 22\n",
    "FACE_PARTS = 70\n",
    "\n",
    "# Model paths\n",
    "body_proto = \"body/pose_deploy_linevec.prototxt\"\n",
    "body_model = \"body/pose_iter_440000.caffemodel\"\n",
    "hand_proto = \"hand/pose_deploy.prototxt\"\n",
    "hand_model = \"hand/pose_iter_102000.caffemodel\"\n",
    "face_proto = \"face/pose_deploy.prototxt\"\n",
    "face_model = \"face/pose_iter_116000.caffemodel\"\n",
    "\n",
    "def check_file_exists(filepath):\n",
    "    if os.path.isfile(filepath):\n",
    "        print(f\"Found: {filepath}\")\n",
    "    else:\n",
    "        print(f\"Not Found: {filepath}\")\n",
    "        raise FileNotFoundError(f\"File not found: {filepath}\")\n",
    "\n",
    "check_file_exists(body_proto)\n",
    "check_file_exists(body_model)\n",
    "check_file_exists(hand_proto)\n",
    "check_file_exists(hand_model)\n",
    "check_file_exists(face_proto)\n",
    "check_file_exists(face_model)\n",
    "\n",
    "def get_keypoints(net, frame, width, height, threshold, num_parts):\n",
    "    net.setInput(cv.dnn.blobFromImage(frame, 1.0, (width, height), (127.5, 127.5, 127.5), swapRB=True, crop=False))\n",
    "    out = net.forward()\n",
    "    points = []\n",
    "    for i in range(num_parts):\n",
    "        heatMap = out[0, i, :, :]\n",
    "        _, conf, _, point = cv.minMaxLoc(heatMap)\n",
    "        x = (frame.shape[1] * point[0]) / out.shape[3]\n",
    "        y = (frame.shape[0] * point[1]) / out.shape[2]\n",
    "        points.append((int(x), int(y)) if conf > threshold else None)\n",
    "    return points\n",
    "\n",
    "def process_video(video_path, output_path, width=368, height=368, threshold=0.2, fps=5):\n",
    "    # Load models within the function to avoid pickling issues\n",
    "    net_body = cv.dnn.readNetFromCaffe(body_proto, body_model)\n",
    "    net_hand = cv.dnn.readNetFromCaffe(hand_proto, hand_model)\n",
    "    net_face = cv.dnn.readNetFromCaffe(face_proto, face_model)\n",
    "\n",
    "    cap = cv.VideoCapture(video_path)\n",
    "    keypoints_data = []\n",
    "    frame_count = 0\n",
    "    frame_rate = cap.get(cv.CAP_PROP_FPS)\n",
    "    sample_rate = int(frame_rate / fps)\n",
    "\n",
    "    while True:\n",
    "        hasFrame, frame = cap.read()\n",
    "        if not hasFrame:\n",
    "            break\n",
    "\n",
    "        if frame_count % sample_rate == 0:\n",
    "            body_keypoints = get_keypoints(net_body, frame, width, height, threshold, len(BODY_PARTS))\n",
    "            hand_keypoints = get_keypoints(net_hand, frame, width, height, threshold, HAND_PARTS)\n",
    "            face_keypoints = get_keypoints(net_face, frame, width, height, threshold, FACE_PARTS)\n",
    "\n",
    "            keypoints_data.append({\n",
    "                'body': body_keypoints,\n",
    "                'hands': hand_keypoints,\n",
    "                'face': face_keypoints\n",
    "            })\n",
    "        \n",
    "        frame_count += 1\n",
    "\n",
    "    cap.release()\n",
    "    \n",
    "    # Save the keypoints to a file\n",
    "    np.savez(output_path, keypoints=keypoints_data)\n",
    "    print(f\"Keypoints saved to {output_path}\")\n",
    "\n",
    "def process_class_videos(class_name):\n",
    "    class_dir = os.path.join(dataset_dir, class_name)\n",
    "    output_class_dir = os.path.join(output_dir, class_name)\n",
    "    os.makedirs(output_class_dir, exist_ok=True)\n",
    "    \n",
    "    for video_name in tqdm(os.listdir(class_dir), desc=f'Processing {class_name}', leave=False):\n",
    "        video_path = os.path.join(class_dir, video_name)\n",
    "        output_path = os.path.join(output_class_dir, os.path.splitext(video_name)[0] + '.npz')\n",
    "        process_video(video_path, output_path)\n",
    "\n",
    "# Iterate over the dataset directory\n",
    "Parallel(n_jobs=-1)(delayed(process_class_videos)(class_name) for class_name in tqdm(os.listdir(dataset_dir), desc='Classes'))\n"
   ]
  },
  {
   "cell_type": "code",
   "execution_count": null,
   "metadata": {},
   "outputs": [],
   "source": [
    "import os\n",
    "import shutil\n",
    "from sklearn.model_selection import train_test_split\n",
    "import numpy as np\n",
    "\n",
    "def move_files(file_list, src_dir, dst_dir, file_ext):\n",
    "    for file_name in file_list:\n",
    "        base_name, _ = os.path.splitext(file_name)\n",
    "        src_file = os.path.join(src_dir, base_name + file_ext)\n",
    "        dst_file = os.path.join(dst_dir, base_name + file_ext)\n",
    "        shutil.copy(src_file, dst_file)\n",
    "\n",
    "def split_dataset(video_dir, keypoints_dir, output_video_dir, output_keypoints_dir, train_ratio=0.7, val_ratio=0.15):\n",
    "    # Ensure the output directories exist\n",
    "    os.makedirs(output_video_dir, exist_ok=True)\n",
    "    os.makedirs(output_keypoints_dir, exist_ok=True)\n",
    "    \n",
    "    class_names = os.listdir(video_dir)\n",
    "    \n",
    "    for class_name in class_names:\n",
    "        video_class_dir = os.path.join(video_dir, class_name)\n",
    "        keypoints_class_dir = os.path.join(keypoints_dir, class_name)\n",
    "        videos = os.listdir(video_class_dir)\n",
    "        \n",
    "        # Split videos into train, val, and test sets\n",
    "        train_videos, test_videos = train_test_split(videos, test_size=1 - train_ratio)\n",
    "        val_videos, test_videos = train_test_split(test_videos, test_size=val_ratio / (1 - train_ratio))\n",
    "        \n",
    "        # Create output directories for the class\n",
    "        train_video_dir = os.path.join(output_video_dir, 'train', class_name)\n",
    "        val_video_dir = os.path.join(output_video_dir, 'val', class_name)\n",
    "        test_video_dir = os.path.join(output_video_dir, 'test', class_name)\n",
    "        train_keypoints_dir = os.path.join(output_keypoints_dir, 'train', class_name)\n",
    "        val_keypoints_dir = os.path.join(output_keypoints_dir, 'val', class_name)\n",
    "        test_keypoints_dir = os.path.join(output_keypoints_dir, 'test', class_name)\n",
    "        \n",
    "        os.makedirs(train_video_dir, exist_ok=True)\n",
    "        os.makedirs(val_video_dir, exist_ok=True)\n",
    "        os.makedirs(test_video_dir, exist_ok=True)\n",
    "        os.makedirs(train_keypoints_dir, exist_ok=True)\n",
    "        os.makedirs(val_keypoints_dir, exist_ok=True)\n",
    "        os.makedirs(test_keypoints_dir, exist_ok=True)\n",
    "        \n",
    "        # Move video files\n",
    "        move_files(train_videos, video_class_dir, train_video_dir, '.mp4')\n",
    "        move_files(val_videos, video_class_dir, val_video_dir, '.mp4')\n",
    "        move_files(test_videos, video_class_dir, test_video_dir, '.mp4')\n",
    "        \n",
    "        # Move keypoints files\n",
    "        move_files(train_videos, keypoints_class_dir, train_keypoints_dir, '.npz')\n",
    "        move_files(val_videos, keypoints_class_dir, val_keypoints_dir, '.npz')\n",
    "        move_files(test_videos, keypoints_class_dir, test_keypoints_dir, '.npz')\n",
    "\n",
    "# Usage\n",
    "video_dir = 'wlasldaily'\n",
    "keypoints_dir = 'keypoints_output'\n",
    "output_video_dir = 'split_videos'\n",
    "output_keypoints_dir = 'split_keypoints'\n",
    "\n",
    "split_dataset(video_dir, keypoints_dir, output_video_dir, output_keypoints_dir)\n"
   ]
  },
  {
   "cell_type": "markdown",
   "metadata": {},
   "source": [
    "Preprocess"
   ]
  },
  {
   "cell_type": "code",
   "execution_count": 10,
   "metadata": {},
   "outputs": [
    {
     "name": "stdout",
     "output_type": "stream",
     "text": [
      "Training data shape: (242, 61, 57), (242, 13)\n",
      "Validation data shape: (57, 61, 57), (57, 13)\n",
      "Test data shape: (60, 61, 57), (60, 13)\n"
     ]
    }
   ],
   "source": [
    "import os\n",
    "import numpy as np\n",
    "from tensorflow.keras.utils import to_categorical\n",
    "from tensorflow.keras.preprocessing.sequence import pad_sequences\n",
    "\n",
    "def extract_keypoints(data):\n",
    "    # Extracts keypoints from the dictionary format to a flat list\n",
    "    keypoints = []\n",
    "    for frame in data:\n",
    "        frame_keypoints = []\n",
    "        for part in frame['body']:\n",
    "            if part is not None:\n",
    "                frame_keypoints.extend([part[0], part[1], part[2] if len(part) > 2 else 1])\n",
    "            else:\n",
    "                frame_keypoints.extend([0, 0, 0])\n",
    "        keypoints.append(frame_keypoints)\n",
    "    return keypoints\n",
    "\n",
    "def load_data(base_dir, class_names, max_len):\n",
    "    X, y = [], []\n",
    "    for class_index, class_name in enumerate(class_names):\n",
    "        class_dir = os.path.join(base_dir, class_name)\n",
    "        for file_name in os.listdir(class_dir):\n",
    "            if file_name.endswith('.npz'):\n",
    "                file_path = os.path.join(class_dir, file_name)\n",
    "                data = np.load(file_path, allow_pickle=True)['keypoints']\n",
    "                keypoints = extract_keypoints(data)\n",
    "                X.append(keypoints)\n",
    "                y.append(class_index)\n",
    "    \n",
    "    # Pad sequences to the same length\n",
    "    X = pad_sequences(X, maxlen=max_len, padding='post', dtype='float32')\n",
    "    y = np.array(y)\n",
    "    y = to_categorical(y, num_classes=len(class_names))\n",
    "    return np.array(X), y\n",
    "\n",
    "train_dir = 'split_keypoints/train'\n",
    "val_dir = 'split_keypoints/val'\n",
    "test_dir = 'split_keypoints/test'\n",
    "\n",
    "class_names = os.listdir(train_dir)\n",
    "\n",
    "# Determine the maximum sequence length\n",
    "max_len = 0\n",
    "for class_name in class_names:\n",
    "    class_dir = os.path.join(train_dir, class_name)\n",
    "    for file_name in os.listdir(class_dir):\n",
    "        if file_name.endswith('.npz'):\n",
    "            file_path = os.path.join(class_dir, file_name)\n",
    "            data = np.load(file_path, allow_pickle=True)['keypoints']\n",
    "            if len(data) > max_len:\n",
    "                max_len = len(data)\n",
    "\n",
    "X_train, y_train = load_data(train_dir, class_names, max_len)\n",
    "X_val, y_val = load_data(val_dir, class_names, max_len)\n",
    "X_test, y_test = load_data(test_dir, class_names, max_len)\n",
    "\n",
    "print(f\"Training data shape: {X_train.shape}, {y_train.shape}\")\n",
    "print(f\"Validation data shape: {X_val.shape}, {y_val.shape}\")\n",
    "print(f\"Test data shape: {X_test.shape}, {y_test.shape}\")\n"
   ]
  },
  {
   "cell_type": "markdown",
   "metadata": {},
   "source": [
    "CNN and LSTM start below"
   ]
  },
  {
   "cell_type": "code",
   "execution_count": 15,
   "metadata": {},
   "outputs": [
    {
     "name": "stdout",
     "output_type": "stream",
     "text": [
      "Model: \"sequential_3\"\n",
      "_________________________________________________________________\n",
      " Layer (type)                Output Shape              Param #   \n",
      "=================================================================\n",
      " time_distributed_14 (TimeDi  (None, 61, 1, 57, 64)    640       \n",
      " stributed)                                                      \n",
      "                                                                 \n",
      " time_distributed_15 (TimeDi  (None, 61, 1, 29, 64)    0         \n",
      " stributed)                                                      \n",
      "                                                                 \n",
      " time_distributed_16 (TimeDi  (None, 61, 1, 29, 128)   73856     \n",
      " stributed)                                                      \n",
      "                                                                 \n",
      " time_distributed_17 (TimeDi  (None, 61, 1, 15, 128)   0         \n",
      " stributed)                                                      \n",
      "                                                                 \n",
      " time_distributed_18 (TimeDi  (None, 61, 1, 15, 256)   295168    \n",
      " stributed)                                                      \n",
      "                                                                 \n",
      " time_distributed_19 (TimeDi  (None, 61, 1, 8, 256)    0         \n",
      " stributed)                                                      \n",
      "                                                                 \n",
      " time_distributed_20 (TimeDi  (None, 61, 1, 8, 512)    1180160   \n",
      " stributed)                                                      \n",
      "                                                                 \n",
      " time_distributed_21 (TimeDi  (None, 61, 1, 4, 512)    0         \n",
      " stributed)                                                      \n",
      "                                                                 \n",
      " time_distributed_22 (TimeDi  (None, 61, 2048)         0         \n",
      " stributed)                                                      \n",
      "                                                                 \n",
      " time_distributed_23 (TimeDi  (None, 61, 256)          524544    \n",
      " stributed)                                                      \n",
      "                                                                 \n",
      " time_distributed_24 (TimeDi  (None, 61, 256)          0         \n",
      " stributed)                                                      \n",
      "                                                                 \n",
      " time_distributed_25 (TimeDi  (None, 61, 128)          32896     \n",
      " stributed)                                                      \n",
      "                                                                 \n",
      " lstm_2 (LSTM)               (None, 61, 64)            49408     \n",
      "                                                                 \n",
      " lstm_3 (LSTM)               (None, 64)                33024     \n",
      "                                                                 \n",
      " dense_5 (Dense)             (None, 13)                845       \n",
      "                                                                 \n",
      "=================================================================\n",
      "Total params: 2,190,541\n",
      "Trainable params: 2,190,541\n",
      "Non-trainable params: 0\n",
      "_________________________________________________________________\n",
      "Epoch 1/30\n",
      "31/31 [==============================] - 115s 3s/step - loss: 2.5598 - accuracy: 0.0950 - val_loss: 2.5153 - val_accuracy: 0.0877\n",
      "Epoch 2/30\n",
      "31/31 [==============================] - 106s 3s/step - loss: 2.5248 - accuracy: 0.0744 - val_loss: 2.4857 - val_accuracy: 0.1228\n",
      "Epoch 3/30\n",
      "31/31 [==============================] - 98s 3s/step - loss: 2.5077 - accuracy: 0.0785 - val_loss: 2.4686 - val_accuracy: 0.1053\n",
      "Epoch 4/30\n",
      "31/31 [==============================] - 80s 3s/step - loss: 2.5000 - accuracy: 0.0579 - val_loss: 2.4674 - val_accuracy: 0.1053\n",
      "Epoch 5/30\n",
      "31/31 [==============================] - 107s 3s/step - loss: 2.4883 - accuracy: 0.0785 - val_loss: 2.4420 - val_accuracy: 0.1053\n",
      "Epoch 6/30\n",
      "31/31 [==============================] - 122s 4s/step - loss: 2.4875 - accuracy: 0.0744 - val_loss: 2.4329 - val_accuracy: 0.1053\n",
      "Epoch 7/30\n",
      "31/31 [==============================] - 92s 3s/step - loss: 2.4727 - accuracy: 0.0992 - val_loss: 2.4405 - val_accuracy: 0.1228\n",
      "Epoch 8/30\n",
      "31/31 [==============================] - 63s 2s/step - loss: 2.4721 - accuracy: 0.0785 - val_loss: 2.4170 - val_accuracy: 0.1228\n",
      "Epoch 9/30\n",
      "31/31 [==============================] - 62s 2s/step - loss: 2.4403 - accuracy: 0.1033 - val_loss: 2.4100 - val_accuracy: 0.1404\n",
      "Epoch 10/30\n",
      "31/31 [==============================] - 62s 2s/step - loss: 2.4134 - accuracy: 0.1074 - val_loss: 2.4348 - val_accuracy: 0.1754\n",
      "Epoch 11/30\n",
      "31/31 [==============================] - 63s 2s/step - loss: 2.4240 - accuracy: 0.1116 - val_loss: 2.4165 - val_accuracy: 0.0877\n",
      "Epoch 12/30\n",
      "31/31 [==============================] - 62s 2s/step - loss: 2.4118 - accuracy: 0.0950 - val_loss: 2.4015 - val_accuracy: 0.1228\n",
      "Epoch 13/30\n",
      "31/31 [==============================] - 62s 2s/step - loss: 2.3917 - accuracy: 0.1281 - val_loss: 2.4193 - val_accuracy: 0.1228\n",
      "Epoch 14/30\n",
      "31/31 [==============================] - 62s 2s/step - loss: 2.4500 - accuracy: 0.1033 - val_loss: 2.3789 - val_accuracy: 0.1228\n",
      "Epoch 15/30\n",
      "31/31 [==============================] - 62s 2s/step - loss: 2.3975 - accuracy: 0.1322 - val_loss: 2.4377 - val_accuracy: 0.1404\n",
      "Epoch 16/30\n",
      "31/31 [==============================] - 62s 2s/step - loss: 2.3731 - accuracy: 0.1488 - val_loss: 2.3951 - val_accuracy: 0.1579\n",
      "Epoch 17/30\n",
      "31/31 [==============================] - 62s 2s/step - loss: 2.3607 - accuracy: 0.1198 - val_loss: 2.3725 - val_accuracy: 0.1228\n",
      "Epoch 18/30\n",
      "31/31 [==============================] - 61s 2s/step - loss: 2.3410 - accuracy: 0.1529 - val_loss: 2.3955 - val_accuracy: 0.1579\n",
      "Epoch 19/30\n",
      "31/31 [==============================] - 63s 2s/step - loss: 2.3360 - accuracy: 0.1736 - val_loss: 2.3798 - val_accuracy: 0.1404\n",
      "Epoch 20/30\n",
      "31/31 [==============================] - 61s 2s/step - loss: 2.3226 - accuracy: 0.1736 - val_loss: 2.3803 - val_accuracy: 0.0702\n",
      "Epoch 21/30\n",
      "31/31 [==============================] - 62s 2s/step - loss: 2.3125 - accuracy: 0.1736 - val_loss: 2.3627 - val_accuracy: 0.1579\n",
      "Epoch 22/30\n",
      "31/31 [==============================] - 69s 2s/step - loss: 2.3333 - accuracy: 0.1694 - val_loss: 2.4127 - val_accuracy: 0.1579\n",
      "Epoch 23/30\n",
      "31/31 [==============================] - 80s 3s/step - loss: 2.3097 - accuracy: 0.1818 - val_loss: 2.3376 - val_accuracy: 0.1754\n",
      "Epoch 24/30\n",
      "31/31 [==============================] - 65s 2s/step - loss: 2.3060 - accuracy: 0.1653 - val_loss: 2.4433 - val_accuracy: 0.1228\n",
      "Epoch 25/30\n",
      "31/31 [==============================] - 63s 2s/step - loss: 2.3076 - accuracy: 0.1942 - val_loss: 2.3337 - val_accuracy: 0.1404\n",
      "Epoch 26/30\n",
      "31/31 [==============================] - 68s 2s/step - loss: 2.2763 - accuracy: 0.1777 - val_loss: 2.4098 - val_accuracy: 0.1404\n",
      "Epoch 27/30\n",
      "31/31 [==============================] - 63s 2s/step - loss: 2.3158 - accuracy: 0.1694 - val_loss: 2.3655 - val_accuracy: 0.1228\n",
      "Epoch 28/30\n",
      "31/31 [==============================] - 59s 2s/step - loss: 2.2850 - accuracy: 0.1901 - val_loss: 2.4148 - val_accuracy: 0.1754\n",
      "Epoch 29/30\n",
      "31/31 [==============================] - 65s 2s/step - loss: 2.3143 - accuracy: 0.1736 - val_loss: 2.4647 - val_accuracy: 0.1579\n",
      "Epoch 30/30\n",
      "31/31 [==============================] - 69s 2s/step - loss: 2.2729 - accuracy: 0.1942 - val_loss: 2.3604 - val_accuracy: 0.1579\n",
      "2/2 [==============================] - 1s 563ms/step - loss: 2.3580 - accuracy: 0.1000\n",
      "Test accuracy: 0.10000000149011612\n"
     ]
    },
    {
     "data": {
      "image/png": "[encoded data removed]",
      "text/plain": [
       "<Figure size 1200x400 with 2 Axes>"
      ]
     },
     "metadata": {},
     "output_type": "display_data"
    },
    {
     "name": "stdout",
     "output_type": "stream",
     "text": [
      "2/2 [==============================] - 2s 549ms/step\n"
     ]
    },
    {
     "ename": "ValueError",
     "evalue": "Number of classes, 12, does not match size of target_names, 13. Try specifying the labels parameter",
     "output_type": "error",
     "traceback": [
      "\u001b[1;31m---------------------------------------------------------------------------\u001b[0m",
      "\u001b[1;31mValueError\u001b[0m                                Traceback (most recent call last)",
      "Cell \u001b[1;32mIn[15], line 76\u001b[0m\n\u001b[0;32m     73\u001b[0m y_true \u001b[38;5;241m=\u001b[39m np\u001b[38;5;241m.\u001b[39margmax(y_test, axis\u001b[38;5;241m=\u001b[39m\u001b[38;5;241m1\u001b[39m)\n\u001b[0;32m     75\u001b[0m \u001b[38;5;66;03m# Generating the classification report\u001b[39;00m\n\u001b[1;32m---> 76\u001b[0m \u001b[38;5;28mprint\u001b[39m(\u001b[43mclassification_report\u001b[49m\u001b[43m(\u001b[49m\u001b[43my_true\u001b[49m\u001b[43m,\u001b[49m\u001b[43m \u001b[49m\u001b[43my_pred_classes\u001b[49m\u001b[43m,\u001b[49m\u001b[43m \u001b[49m\u001b[43mtarget_names\u001b[49m\u001b[38;5;241;43m=\u001b[39;49m\u001b[43mclass_names\u001b[49m\u001b[43m)\u001b[49m)\n\u001b[0;32m     78\u001b[0m \u001b[38;5;66;03m# Confusion matrix\u001b[39;00m\n\u001b[0;32m     79\u001b[0m conf_matrix \u001b[38;5;241m=\u001b[39m confusion_matrix(y_true, y_pred_classes)\n",
      "File \u001b[1;32m~\\AppData\\Roaming\\Python\\Python310\\site-packages\\sklearn\\utils\\_param_validation.py:213\u001b[0m, in \u001b[0;36mvalidate_params.<locals>.decorator.<locals>.wrapper\u001b[1;34m(*args, **kwargs)\u001b[0m\n\u001b[0;32m    207\u001b[0m \u001b[38;5;28;01mtry\u001b[39;00m:\n\u001b[0;32m    208\u001b[0m     \u001b[38;5;28;01mwith\u001b[39;00m config_context(\n\u001b[0;32m    209\u001b[0m         skip_parameter_validation\u001b[38;5;241m=\u001b[39m(\n\u001b[0;32m    210\u001b[0m             prefer_skip_nested_validation \u001b[38;5;129;01mor\u001b[39;00m global_skip_validation\n\u001b[0;32m    211\u001b[0m         )\n\u001b[0;32m    212\u001b[0m     ):\n\u001b[1;32m--> 213\u001b[0m         \u001b[38;5;28;01mreturn\u001b[39;00m func(\u001b[38;5;241m*\u001b[39margs, \u001b[38;5;241m*\u001b[39m\u001b[38;5;241m*\u001b[39mkwargs)\n\u001b[0;32m    214\u001b[0m \u001b[38;5;28;01mexcept\u001b[39;00m InvalidParameterError \u001b[38;5;28;01mas\u001b[39;00m e:\n\u001b[0;32m    215\u001b[0m     \u001b[38;5;66;03m# When the function is just a wrapper around an estimator, we allow\u001b[39;00m\n\u001b[0;32m    216\u001b[0m     \u001b[38;5;66;03m# the function to delegate validation to the estimator, but we replace\u001b[39;00m\n\u001b[0;32m    217\u001b[0m     \u001b[38;5;66;03m# the name of the estimator by the name of the function in the error\u001b[39;00m\n\u001b[0;32m    218\u001b[0m     \u001b[38;5;66;03m# message to avoid confusion.\u001b[39;00m\n\u001b[0;32m    219\u001b[0m     msg \u001b[38;5;241m=\u001b[39m re\u001b[38;5;241m.\u001b[39msub(\n\u001b[0;32m    220\u001b[0m         \u001b[38;5;124mr\u001b[39m\u001b[38;5;124m\"\u001b[39m\u001b[38;5;124mparameter of \u001b[39m\u001b[38;5;124m\\\u001b[39m\u001b[38;5;124mw+ must be\u001b[39m\u001b[38;5;124m\"\u001b[39m,\n\u001b[0;32m    221\u001b[0m         \u001b[38;5;124mf\u001b[39m\u001b[38;5;124m\"\u001b[39m\u001b[38;5;124mparameter of \u001b[39m\u001b[38;5;132;01m{\u001b[39;00mfunc\u001b[38;5;241m.\u001b[39m\u001b[38;5;18m__qualname__\u001b[39m\u001b[38;5;132;01m}\u001b[39;00m\u001b[38;5;124m must be\u001b[39m\u001b[38;5;124m\"\u001b[39m,\n\u001b[0;32m    222\u001b[0m         \u001b[38;5;28mstr\u001b[39m(e),\n\u001b[0;32m    223\u001b[0m     )\n",
      "File \u001b[1;32m~\\AppData\\Roaming\\Python\\Python310\\site-packages\\sklearn\\metrics\\_classification.py:2626\u001b[0m, in \u001b[0;36mclassification_report\u001b[1;34m(y_true, y_pred, labels, target_names, sample_weight, digits, output_dict, zero_division)\u001b[0m\n\u001b[0;32m   2620\u001b[0m         warnings\u001b[38;5;241m.\u001b[39mwarn(\n\u001b[0;32m   2621\u001b[0m             \u001b[38;5;124m\"\u001b[39m\u001b[38;5;124mlabels size, \u001b[39m\u001b[38;5;132;01m{0}\u001b[39;00m\u001b[38;5;124m, does not match size of target_names, \u001b[39m\u001b[38;5;132;01m{1}\u001b[39;00m\u001b[38;5;124m\"\u001b[39m\u001b[38;5;241m.\u001b[39mformat(\n\u001b[0;32m   2622\u001b[0m                 \u001b[38;5;28mlen\u001b[39m(labels), \u001b[38;5;28mlen\u001b[39m(target_names)\n\u001b[0;32m   2623\u001b[0m             )\n\u001b[0;32m   2624\u001b[0m         )\n\u001b[0;32m   2625\u001b[0m     \u001b[38;5;28;01melse\u001b[39;00m:\n\u001b[1;32m-> 2626\u001b[0m         \u001b[38;5;28;01mraise\u001b[39;00m \u001b[38;5;167;01mValueError\u001b[39;00m(\n\u001b[0;32m   2627\u001b[0m             \u001b[38;5;124m\"\u001b[39m\u001b[38;5;124mNumber of classes, \u001b[39m\u001b[38;5;132;01m{0}\u001b[39;00m\u001b[38;5;124m, does not match size of \u001b[39m\u001b[38;5;124m\"\u001b[39m\n\u001b[0;32m   2628\u001b[0m             \u001b[38;5;124m\"\u001b[39m\u001b[38;5;124mtarget_names, \u001b[39m\u001b[38;5;132;01m{1}\u001b[39;00m\u001b[38;5;124m. Try specifying the labels \u001b[39m\u001b[38;5;124m\"\u001b[39m\n\u001b[0;32m   2629\u001b[0m             \u001b[38;5;124m\"\u001b[39m\u001b[38;5;124mparameter\u001b[39m\u001b[38;5;124m\"\u001b[39m\u001b[38;5;241m.\u001b[39mformat(\u001b[38;5;28mlen\u001b[39m(labels), \u001b[38;5;28mlen\u001b[39m(target_names))\n\u001b[0;32m   2630\u001b[0m         )\n\u001b[0;32m   2631\u001b[0m \u001b[38;5;28;01mif\u001b[39;00m target_names \u001b[38;5;129;01mis\u001b[39;00m \u001b[38;5;28;01mNone\u001b[39;00m:\n\u001b[0;32m   2632\u001b[0m     target_names \u001b[38;5;241m=\u001b[39m [\u001b[38;5;124m\"\u001b[39m\u001b[38;5;132;01m%s\u001b[39;00m\u001b[38;5;124m\"\u001b[39m \u001b[38;5;241m%\u001b[39m l \u001b[38;5;28;01mfor\u001b[39;00m l \u001b[38;5;129;01min\u001b[39;00m labels]\n",
      "\u001b[1;31mValueError\u001b[0m: Number of classes, 12, does not match size of target_names, 13. Try specifying the labels parameter"
     ]
    }
   ],
   "source": [
    "from tensorflow.keras.optimizers import Adam\n",
    "\n",
    "def create_cnn_lstm_model(input_shape, num_classes):\n",
    "    model = models.Sequential()\n",
    "    \n",
    "    # CNN layers within TimeDistributed\n",
    "    model.add(layers.TimeDistributed(layers.Conv2D(64, (3, 3), activation='relu', padding='same'), input_shape=input_shape))\n",
    "    model.add(layers.TimeDistributed(layers.MaxPooling2D((2, 2), padding='same')))\n",
    "    model.add(layers.TimeDistributed(layers.Conv2D(128, (3, 3), activation='relu', padding='same')))\n",
    "    model.add(layers.TimeDistributed(layers.MaxPooling2D((2, 2), padding='same')))\n",
    "    model.add(layers.TimeDistributed(layers.Conv2D(256, (3, 3), activation='relu', padding='same')))\n",
    "    model.add(layers.TimeDistributed(layers.MaxPooling2D((2, 2), padding='same')))\n",
    "    model.add(layers.TimeDistributed(layers.Conv2D(512, (3, 3), activation='relu', padding='same')))\n",
    "    model.add(layers.TimeDistributed(layers.MaxPooling2D((2, 2), padding='same')))\n",
    "    \n",
    "    model.add(layers.TimeDistributed(layers.Flatten()))\n",
    "    model.add(layers.TimeDistributed(layers.Dense(256, activation='relu')))\n",
    "    model.add(layers.TimeDistributed(layers.Dropout(0.5)))\n",
    "    model.add(layers.TimeDistributed(layers.Dense(128, activation='relu')))\n",
    "    \n",
    "    # LSTM layers\n",
    "    model.add(layers.LSTM(64, return_sequences=True))\n",
    "    model.add(layers.LSTM(64))\n",
    "    \n",
    "    model.add(layers.Dense(num_classes, activation='softmax'))\n",
    "    \n",
    "    return model\n",
    "\n",
    "input_shape = (num_frames, height, width, channels)\n",
    "num_classes = len(class_names)\n",
    "\n",
    "model = create_cnn_lstm_model(input_shape, num_classes)\n",
    "\n",
    "# Adjusted learning rate\n",
    "optimizer = Adam(learning_rate=0.001)\n",
    "\n",
    "model.compile(optimizer=optimizer, loss='categorical_crossentropy', metrics=['accuracy'])\n",
    "\n",
    "model.summary()\n",
    "\n",
    "# Define a callback to save the model after every epoch\n",
    "checkpoint_cb = tf.keras.callbacks.ModelCheckpoint(\"6julmodel_epoch_{epoch:02d}.h5\", save_best_only=False)\n",
    "\n",
    "# Training the model\n",
    "history = model.fit(X_train, y_train, validation_data=(X_val, y_val), epochs=30, batch_size=8, callbacks=[checkpoint_cb])\n",
    "\n",
    "# Evaluating the model\n",
    "test_loss, test_acc = model.evaluate(X_test, y_test)\n",
    "print(f\"Test accuracy: {test_acc}\")\n",
    "\n",
    "# Plotting accuracy and loss\n",
    "plt.figure(figsize=(12, 4))\n",
    "plt.subplot(1, 2, 1)\n",
    "plt.plot(history.history['accuracy'], label='train_accuracy')\n",
    "plt.plot(history.history['val_accuracy'], label='val_accuracy')\n",
    "plt.title('Model Accuracy')\n",
    "plt.xlabel('Epochs')\n",
    "plt.ylabel('Accuracy')\n",
    "plt.legend()\n",
    "\n",
    "plt.subplot(1, 2, 2)\n",
    "plt.plot(history.history['loss'], label='train_loss')\n",
    "plt.plot(history.history['val_loss'], label='val_loss')\n",
    "plt.title('Model Loss')\n",
    "plt.xlabel('Epochs')\n",
    "plt.ylabel('Loss')\n",
    "plt.legend()\n",
    "plt.show()\n",
    "\n",
    "# Predicting the test data\n",
    "y_pred = model.predict(X_test)\n",
    "y_pred_classes = np.argmax(y_pred, axis=1)\n",
    "y_true = np.argmax(y_test, axis=1)\n",
    "\n",
    "# Generating the classification report\n",
    "print(classification_report(y_true, y_pred_classes, target_names=class_names))\n",
    "\n",
    "# Confusion matrix\n",
    "conf_matrix = confusion_matrix(y_true, y_pred_classes)\n",
    "\n",
    "plt.figure(figsize=(10, 8))\n",
    "sns.heatmap(conf_matrix, annot=True, fmt='d', cmap='Blues', xticklabels=class_names, yticklabels=class_names)\n",
    "plt.title('Confusion Matrix')\n",
    "plt.xlabel('Predicted')\n",
    "plt.ylabel('True')\n",
    "plt.show()\n",
    "\n",
    "# Compute precision, recall, F1-score\n",
    "report = classification_report(y_true, y_pred_classes, target_names=class_names, output_dict=True)\n",
    "precision = report['weighted avg']['precision']\n",
    "recall = report['weighted avg']['recall']\n",
    "f1_score = report['weighted avg']['f1-score']\n",
    "\n",
    "print(f\"Precision: {precision}\")\n",
    "print(f\"Recall: {recall}\")\n",
    "print(f\"F1 Score: {f1_score}\")"
   ]
  },
  {
   "cell_type": "markdown",
   "metadata": {},
   "source": [
    "2nd code "
   ]
  },
  {
   "cell_type": "code",
   "execution_count": 16,
   "metadata": {},
   "outputs": [
    {
     "name": "stdout",
     "output_type": "stream",
     "text": [
      "Training data shape: (242, 61, 57), (242, 13)\n",
      "Validation data shape: (57, 61, 57), (57, 13)\n",
      "Test data shape: (60, 61, 57), (60, 13)\n",
      "Model: \"sequential_4\"\n",
      "_________________________________________________________________\n",
      " Layer (type)                Output Shape              Param #   \n",
      "=================================================================\n",
      " time_distributed_26 (TimeDi  (None, 61, 1, 57, 32)    320       \n",
      " stributed)                                                      \n",
      "                                                                 \n",
      " time_distributed_27 (TimeDi  (None, 61, 1, 29, 32)    0         \n",
      " stributed)                                                      \n",
      "                                                                 \n",
      " time_distributed_28 (TimeDi  (None, 61, 1, 29, 64)    18496     \n",
      " stributed)                                                      \n",
      "                                                                 \n",
      " time_distributed_29 (TimeDi  (None, 61, 1, 15, 64)    0         \n",
      " stributed)                                                      \n",
      "                                                                 \n",
      " time_distributed_30 (TimeDi  (None, 61, 960)          0         \n",
      " stributed)                                                      \n",
      "                                                                 \n",
      " time_distributed_31 (TimeDi  (None, 61, 128)          123008    \n",
      " stributed)                                                      \n",
      "                                                                 \n",
      " time_distributed_32 (TimeDi  (None, 61, 128)          0         \n",
      " stributed)                                                      \n",
      "                                                                 \n",
      " lstm_4 (LSTM)               (None, 61, 64)            49408     \n",
      "                                                                 \n",
      " lstm_5 (LSTM)               (None, 64)                33024     \n",
      "                                                                 \n",
      " dense_7 (Dense)             (None, 13)                845       \n",
      "                                                                 \n",
      "=================================================================\n",
      "Total params: 225,101\n",
      "Trainable params: 225,101\n",
      "Non-trainable params: 0\n",
      "_________________________________________________________________\n",
      "Epoch 1/10\n",
      "31/31 [==============================] - 9s 137ms/step - loss: 2.5676 - accuracy: 0.0785 - val_loss: 2.5693 - val_accuracy: 0.0877\n",
      "Epoch 2/10\n",
      "31/31 [==============================] - 3s 100ms/step - loss: 2.5608 - accuracy: 0.0826 - val_loss: 2.5531 - val_accuracy: 0.1228\n",
      "Epoch 3/10\n",
      "31/31 [==============================] - 3s 103ms/step - loss: 2.5539 - accuracy: 0.0868 - val_loss: 2.5395 - val_accuracy: 0.1053\n",
      "Epoch 4/10\n",
      "31/31 [==============================] - 3s 98ms/step - loss: 2.5463 - accuracy: 0.0744 - val_loss: 2.5243 - val_accuracy: 0.1053\n",
      "Epoch 5/10\n",
      "31/31 [==============================] - 3s 100ms/step - loss: 2.5279 - accuracy: 0.0909 - val_loss: 2.4980 - val_accuracy: 0.1053\n",
      "Epoch 6/10\n",
      "31/31 [==============================] - 3s 99ms/step - loss: 2.5113 - accuracy: 0.0909 - val_loss: 2.4832 - val_accuracy: 0.1053\n",
      "Epoch 7/10\n",
      "31/31 [==============================] - 3s 111ms/step - loss: 2.4988 - accuracy: 0.0909 - val_loss: 2.4699 - val_accuracy: 0.1053\n",
      "Epoch 8/10\n",
      "31/31 [==============================] - 3s 100ms/step - loss: 2.4932 - accuracy: 0.0909 - val_loss: 2.4613 - val_accuracy: 0.1053\n",
      "Epoch 9/10\n",
      "31/31 [==============================] - 3s 102ms/step - loss: 2.4876 - accuracy: 0.0868 - val_loss: 2.4570 - val_accuracy: 0.1053\n",
      "Epoch 10/10\n",
      "31/31 [==============================] - 3s 101ms/step - loss: 2.4839 - accuracy: 0.0868 - val_loss: 2.4524 - val_accuracy: 0.1053\n",
      "2/2 [==============================] - 0s 73ms/step - loss: 2.4918 - accuracy: 0.0833\n",
      "Test accuracy: 0.0833333358168602\n"
     ]
    },
    {
     "data": {
      "image/png": "[encoded data removed]",
      "text/plain": [
       "<Figure size 1200x400 with 2 Axes>"
      ]
     },
     "metadata": {},
     "output_type": "display_data"
    },
    {
     "name": "stdout",
     "output_type": "stream",
     "text": [
      "2/2 [==============================] - 1s 83ms/step\n"
     ]
    },
    {
     "ename": "ValueError",
     "evalue": "Number of classes, 12, does not match size of target_names, 13. Try specifying the labels parameter",
     "output_type": "error",
     "traceback": [
      "\u001b[1;31m---------------------------------------------------------------------------\u001b[0m",
      "\u001b[1;31mValueError\u001b[0m                                Traceback (most recent call last)",
      "Cell \u001b[1;32mIn[16], line 176\u001b[0m\n\u001b[0;32m    173\u001b[0m y_true \u001b[38;5;241m=\u001b[39m np\u001b[38;5;241m.\u001b[39margmax(y_test, axis\u001b[38;5;241m=\u001b[39m\u001b[38;5;241m1\u001b[39m)\n\u001b[0;32m    175\u001b[0m \u001b[38;5;66;03m# Generating the classification report\u001b[39;00m\n\u001b[1;32m--> 176\u001b[0m \u001b[38;5;28mprint\u001b[39m(\u001b[43mclassification_report\u001b[49m\u001b[43m(\u001b[49m\u001b[43my_true\u001b[49m\u001b[43m,\u001b[49m\u001b[43m \u001b[49m\u001b[43my_pred_classes\u001b[49m\u001b[43m,\u001b[49m\u001b[43m \u001b[49m\u001b[43mtarget_names\u001b[49m\u001b[38;5;241;43m=\u001b[39;49m\u001b[43mclass_names\u001b[49m\u001b[43m)\u001b[49m)\n\u001b[0;32m    178\u001b[0m \u001b[38;5;66;03m# Confusion matrix\u001b[39;00m\n\u001b[0;32m    179\u001b[0m conf_matrix \u001b[38;5;241m=\u001b[39m confusion_matrix(y_true, y_pred_classes)\n",
      "File \u001b[1;32m~\\AppData\\Roaming\\Python\\Python310\\site-packages\\sklearn\\utils\\_param_validation.py:213\u001b[0m, in \u001b[0;36mvalidate_params.<locals>.decorator.<locals>.wrapper\u001b[1;34m(*args, **kwargs)\u001b[0m\n\u001b[0;32m    207\u001b[0m \u001b[38;5;28;01mtry\u001b[39;00m:\n\u001b[0;32m    208\u001b[0m     \u001b[38;5;28;01mwith\u001b[39;00m config_context(\n\u001b[0;32m    209\u001b[0m         skip_parameter_validation\u001b[38;5;241m=\u001b[39m(\n\u001b[0;32m    210\u001b[0m             prefer_skip_nested_validation \u001b[38;5;129;01mor\u001b[39;00m global_skip_validation\n\u001b[0;32m    211\u001b[0m         )\n\u001b[0;32m    212\u001b[0m     ):\n\u001b[1;32m--> 213\u001b[0m         \u001b[38;5;28;01mreturn\u001b[39;00m func(\u001b[38;5;241m*\u001b[39margs, \u001b[38;5;241m*\u001b[39m\u001b[38;5;241m*\u001b[39mkwargs)\n\u001b[0;32m    214\u001b[0m \u001b[38;5;28;01mexcept\u001b[39;00m InvalidParameterError \u001b[38;5;28;01mas\u001b[39;00m e:\n\u001b[0;32m    215\u001b[0m     \u001b[38;5;66;03m# When the function is just a wrapper around an estimator, we allow\u001b[39;00m\n\u001b[0;32m    216\u001b[0m     \u001b[38;5;66;03m# the function to delegate validation to the estimator, but we replace\u001b[39;00m\n\u001b[0;32m    217\u001b[0m     \u001b[38;5;66;03m# the name of the estimator by the name of the function in the error\u001b[39;00m\n\u001b[0;32m    218\u001b[0m     \u001b[38;5;66;03m# message to avoid confusion.\u001b[39;00m\n\u001b[0;32m    219\u001b[0m     msg \u001b[38;5;241m=\u001b[39m re\u001b[38;5;241m.\u001b[39msub(\n\u001b[0;32m    220\u001b[0m         \u001b[38;5;124mr\u001b[39m\u001b[38;5;124m\"\u001b[39m\u001b[38;5;124mparameter of \u001b[39m\u001b[38;5;124m\\\u001b[39m\u001b[38;5;124mw+ must be\u001b[39m\u001b[38;5;124m\"\u001b[39m,\n\u001b[0;32m    221\u001b[0m         \u001b[38;5;124mf\u001b[39m\u001b[38;5;124m\"\u001b[39m\u001b[38;5;124mparameter of \u001b[39m\u001b[38;5;132;01m{\u001b[39;00mfunc\u001b[38;5;241m.\u001b[39m\u001b[38;5;18m__qualname__\u001b[39m\u001b[38;5;132;01m}\u001b[39;00m\u001b[38;5;124m must be\u001b[39m\u001b[38;5;124m\"\u001b[39m,\n\u001b[0;32m    222\u001b[0m         \u001b[38;5;28mstr\u001b[39m(e),\n\u001b[0;32m    223\u001b[0m     )\n",
      "File \u001b[1;32m~\\AppData\\Roaming\\Python\\Python310\\site-packages\\sklearn\\metrics\\_classification.py:2626\u001b[0m, in \u001b[0;36mclassification_report\u001b[1;34m(y_true, y_pred, labels, target_names, sample_weight, digits, output_dict, zero_division)\u001b[0m\n\u001b[0;32m   2620\u001b[0m         warnings\u001b[38;5;241m.\u001b[39mwarn(\n\u001b[0;32m   2621\u001b[0m             \u001b[38;5;124m\"\u001b[39m\u001b[38;5;124mlabels size, \u001b[39m\u001b[38;5;132;01m{0}\u001b[39;00m\u001b[38;5;124m, does not match size of target_names, \u001b[39m\u001b[38;5;132;01m{1}\u001b[39;00m\u001b[38;5;124m\"\u001b[39m\u001b[38;5;241m.\u001b[39mformat(\n\u001b[0;32m   2622\u001b[0m                 \u001b[38;5;28mlen\u001b[39m(labels), \u001b[38;5;28mlen\u001b[39m(target_names)\n\u001b[0;32m   2623\u001b[0m             )\n\u001b[0;32m   2624\u001b[0m         )\n\u001b[0;32m   2625\u001b[0m     \u001b[38;5;28;01melse\u001b[39;00m:\n\u001b[1;32m-> 2626\u001b[0m         \u001b[38;5;28;01mraise\u001b[39;00m \u001b[38;5;167;01mValueError\u001b[39;00m(\n\u001b[0;32m   2627\u001b[0m             \u001b[38;5;124m\"\u001b[39m\u001b[38;5;124mNumber of classes, \u001b[39m\u001b[38;5;132;01m{0}\u001b[39;00m\u001b[38;5;124m, does not match size of \u001b[39m\u001b[38;5;124m\"\u001b[39m\n\u001b[0;32m   2628\u001b[0m             \u001b[38;5;124m\"\u001b[39m\u001b[38;5;124mtarget_names, \u001b[39m\u001b[38;5;132;01m{1}\u001b[39;00m\u001b[38;5;124m. Try specifying the labels \u001b[39m\u001b[38;5;124m\"\u001b[39m\n\u001b[0;32m   2629\u001b[0m             \u001b[38;5;124m\"\u001b[39m\u001b[38;5;124mparameter\u001b[39m\u001b[38;5;124m\"\u001b[39m\u001b[38;5;241m.\u001b[39mformat(\u001b[38;5;28mlen\u001b[39m(labels), \u001b[38;5;28mlen\u001b[39m(target_names))\n\u001b[0;32m   2630\u001b[0m         )\n\u001b[0;32m   2631\u001b[0m \u001b[38;5;28;01mif\u001b[39;00m target_names \u001b[38;5;129;01mis\u001b[39;00m \u001b[38;5;28;01mNone\u001b[39;00m:\n\u001b[0;32m   2632\u001b[0m     target_names \u001b[38;5;241m=\u001b[39m [\u001b[38;5;124m\"\u001b[39m\u001b[38;5;132;01m%s\u001b[39;00m\u001b[38;5;124m\"\u001b[39m \u001b[38;5;241m%\u001b[39m l \u001b[38;5;28;01mfor\u001b[39;00m l \u001b[38;5;129;01min\u001b[39;00m labels]\n",
      "\u001b[1;31mValueError\u001b[0m: Number of classes, 12, does not match size of target_names, 13. Try specifying the labels parameter"
     ]
    }
   ],
   "source": [
    "import cv2 as cv\n",
    "import numpy as np\n",
    "import os\n",
    "import tensorflow as tf\n",
    "from tensorflow.keras import layers, models\n",
    "from tensorflow.keras.optimizers import Adam\n",
    "from tensorflow.keras.utils import to_categorical\n",
    "from tensorflow.keras.preprocessing.sequence import pad_sequences\n",
    "import matplotlib.pyplot as plt\n",
    "from sklearn.metrics import classification_report, confusion_matrix\n",
    "import seaborn as sns\n",
    "\n",
    "# Assuming keypoint extraction functions and models are defined here\n",
    "\n",
    "# Function to extract keypoints from a single video file\n",
    "def extract_keypoints_from_video(video_path):\n",
    "    cap = cv.VideoCapture(video_path)\n",
    "    keypoints_data = []\n",
    "\n",
    "    while True:\n",
    "        hasFrame, frame = cap.read()\n",
    "        if not hasFrame:\n",
    "            break\n",
    "\n",
    "        body_keypoints = get_keypoints(net_body, frame, 368, 368, 0.2, len(BODY_PARTS))\n",
    "        hand_keypoints = get_keypoints(net_hand, frame, 368, 368, 0.2, HAND_PARTS)\n",
    "        face_keypoints = get_keypoints(net_face, frame, 368, 368, 0.2, FACE_PARTS)\n",
    "\n",
    "        keypoints_data.append({\n",
    "            'body': body_keypoints,\n",
    "            'hands': hand_keypoints,\n",
    "            'face': face_keypoints\n",
    "        })\n",
    "\n",
    "    cap.release()\n",
    "    return keypoints_data\n",
    "\n",
    "# Ensure the keypoints extraction function is consistent\n",
    "def extract_keypoints(data):\n",
    "    keypoints = []\n",
    "    for frame in data:\n",
    "        frame_keypoints = []\n",
    "        for part in frame['body']:\n",
    "            if part is not None:\n",
    "                frame_keypoints.extend([part[0], part[1], part[2] if len(part) > 2 else 1])\n",
    "            else:\n",
    "                frame_keypoints.extend([0, 0, 0])\n",
    "        keypoints.append(frame_keypoints)\n",
    "    return keypoints\n",
    "\n",
    "def load_data(base_dir, class_names, max_len):\n",
    "    X, y = [], []\n",
    "    for class_index, class_name in enumerate(class_names):\n",
    "        class_dir = os.path.join(base_dir, class_name)\n",
    "        for file_name in os.listdir(class_dir):\n",
    "            if file_name.endswith('.npz'):\n",
    "                file_path = os.path.join(class_dir, file_name)\n",
    "                data = np.load(file_path, allow_pickle=True)['keypoints']\n",
    "                keypoints = extract_keypoints(data)\n",
    "                X.append(keypoints)\n",
    "                y.append(class_index)\n",
    "    \n",
    "    # Pad sequences to the same length\n",
    "    X = pad_sequences(X, maxlen=max_len, padding='post', dtype='float32')\n",
    "    y = np.array(y)\n",
    "    y = to_categorical(y, num_classes=len(class_names))\n",
    "    return np.array(X), y\n",
    "\n",
    "# Simplified model architecture for debugging\n",
    "def create_simple_cnn_lstm_model(input_shape, num_classes):\n",
    "    model = models.Sequential()\n",
    "    \n",
    "    model.add(layers.TimeDistributed(layers.Conv2D(32, (3, 3), activation='relu', padding='same'), input_shape=input_shape))\n",
    "    model.add(layers.TimeDistributed(layers.MaxPooling2D((2, 2), padding='same')))\n",
    "    \n",
    "    model.add(layers.TimeDistributed(layers.Conv2D(64, (3, 3), activation='relu', padding='same')))\n",
    "    model.add(layers.TimeDistributed(layers.MaxPooling2D((2, 2), padding='same')))\n",
    "    \n",
    "    model.add(layers.TimeDistributed(layers.Flatten()))\n",
    "    model.add(layers.TimeDistributed(layers.Dense(128, activation='relu')))\n",
    "    model.add(layers.TimeDistributed(layers.Dropout(0.5)))\n",
    "    \n",
    "    model.add(layers.LSTM(64, return_sequences=True))\n",
    "    model.add(layers.LSTM(64))\n",
    "    \n",
    "    model.add(layers.Dense(num_classes, activation='softmax'))\n",
    "    \n",
    "    return model\n",
    "\n",
    "# Main script\n",
    "train_dir = 'split_keypoints/train'\n",
    "val_dir = 'split_keypoints/val'\n",
    "test_dir = 'split_keypoints/test'\n",
    "\n",
    "class_names = os.listdir(train_dir)\n",
    "\n",
    "# Determine the maximum sequence length\n",
    "max_len = 0\n",
    "for class_name in class_names:\n",
    "    class_dir = os.path.join(train_dir, class_name)\n",
    "    for file_name in os.listdir(class_dir):\n",
    "        if file_name.endswith('.npz'):\n",
    "            file_path = os.path.join(class_dir, file_name)\n",
    "            data = np.load(file_path, allow_pickle=True)['keypoints']\n",
    "            if len(data) > max_len:\n",
    "                max_len = len(data)\n",
    "\n",
    "X_train, y_train = load_data(train_dir, class_names, max_len)\n",
    "X_val, y_val = load_data(val_dir, class_names, max_len)\n",
    "X_test, y_test = load_data(test_dir, class_names, max_len)\n",
    "\n",
    "print(f\"Training data shape: {X_train.shape}, {y_train.shape}\")\n",
    "print(f\"Validation data shape: {X_val.shape}, {y_val.shape}\")\n",
    "print(f\"Test data shape: {X_test.shape}, {y_test.shape}\")\n",
    "\n",
    "# Define the input shape\n",
    "num_frames = X_train.shape[1]\n",
    "num_keypoints = X_train.shape[2] // 3  # Assuming each keypoint has 3 values (x, y, confidence)\n",
    "height = 1\n",
    "width = num_keypoints * 3\n",
    "channels = 1\n",
    "\n",
    "input_shape = (num_frames, height, width, channels)\n",
    "num_classes = len(class_names)\n",
    "\n",
    "model = create_simple_cnn_lstm_model(input_shape, num_classes)\n",
    "\n",
    "# Adjust the learning rate\n",
    "learning_rate = 0.0001  # Try a lower learning rate\n",
    "optimizer = Adam(learning_rate=learning_rate)\n",
    "\n",
    "model.compile(optimizer=optimizer, loss='categorical_crossentropy', metrics=['accuracy'])\n",
    "\n",
    "model.summary()\n",
    "\n",
    "# Define a callback to save the model after every epoch\n",
    "checkpoint_cb = tf.keras.callbacks.ModelCheckpoint(\"model_epoch_{epoch:02d}.h5\", save_best_only=False)\n",
    "\n",
    "# Reshape your data to the shape (num_samples, num_frames, height, width, channels)\n",
    "X_train = X_train.reshape((X_train.shape[0], num_frames, height, width, channels))\n",
    "X_val = X_val.reshape((X_val.shape[0], num_frames, height, width, channels))\n",
    "X_test = X_test.reshape((X_test.shape[0], num_frames, height, width, channels))\n",
    "\n",
    "# Training the model\n",
    "history = model.fit(X_train, y_train, validation_data=(X_val, y_val), epochs=10, batch_size=8, callbacks=[checkpoint_cb])\n",
    "\n",
    "# Evaluating the model\n",
    "test_loss, test_acc = model.evaluate(X_test, y_test)\n",
    "print(f\"Test accuracy: {test_acc}\")\n",
    "\n",
    "# Plotting accuracy and loss\n",
    "plt.figure(figsize=(12, 4))\n",
    "plt.subplot(1, 2, 1)\n",
    "plt.plot(history.history['accuracy'], label='train_accuracy')\n",
    "plt.plot(history.history['val_accuracy'], label='val_accuracy')\n",
    "plt.title('Model Accuracy')\n",
    "plt.xlabel('Epochs')\n",
    "plt.ylabel('Accuracy')\n",
    "plt.legend()\n",
    "\n",
    "plt.subplot(1, 2, 2)\n",
    "plt.plot(history.history['loss'], label='train_loss')\n",
    "plt.plot(history.history['val_loss'], label='val_loss')\n",
    "plt.title('Model Loss')\n",
    "plt.xlabel('Epochs')\n",
    "plt.ylabel('Loss')\n",
    "plt.legend()\n",
    "plt.show()\n",
    "\n",
    "# Predicting the test data\n",
    "y_pred = model.predict(X_test)\n",
    "y_pred_classes = np.argmax(y_pred, axis=1)\n",
    "y_true = np.argmax(y_test, axis=1)\n",
    "\n",
    "# Generating the classification report\n",
    "print(classification_report(y_true, y_pred_classes, target_names=class_names))\n",
    "\n",
    "# Confusion matrix\n",
    "conf_matrix = confusion_matrix(y_true, y_pred_classes)\n",
    "\n",
    "plt.figure(figsize=(10, 8))\n",
    "sns.heatmap(conf_matrix, annot=True, fmt='d', cmap='Blues', xticklabels=class_names, yticklabels=class_names)\n",
    "plt.title('Confusion Matrix')\n",
    "plt.xlabel('Predicted')\n",
    "plt.ylabel('True')\n",
    "plt.show()\n",
    "\n",
    "# Compute precision, recall, F1-score\n",
    "report = classification_report(y_true, y_pred_classes, target_names=class_names, output_dict=True)\n",
    "precision = report['weighted avg']['precision']\n",
    "recall = report['weighted avg']['recall']\n",
    "f1_score = report['weighted avg']['f1-score']\n",
    "\n",
    "print(f\"Precision: {precision}\")\n",
    "print(f\"Recall: {recall}\")\n",
    "print(f\"F1 Score: {f1_score}\")\n"
   ]
  },
  {
   "cell_type": "code",
   "execution_count": null,
   "metadata": {},
   "outputs": [],
   "source": []
  },
  {
   "cell_type": "markdown",
   "metadata": {},
   "source": [
    "3rd Try"
   ]
  },
  {
   "cell_type": "code",
   "execution_count": 17,
   "metadata": {},
   "outputs": [
    {
     "name": "stdout",
     "output_type": "stream",
     "text": [
      "Found: body/pose_deploy_linevec.prototxt\n",
      "Found: body/pose_iter_440000.caffemodel\n",
      "Found: hand/pose_deploy.prototxt\n",
      "Found: hand/pose_iter_102000.caffemodel\n",
      "Found: face/pose_deploy.prototxt\n",
      "Found: face/pose_iter_116000.caffemodel\n"
     ]
    },
    {
     "name": "stderr",
     "output_type": "stream",
     "text": [
      "Processing test:   8%|▊         | 1/12 [00:02<00:32,  2.95s/it]"
     ]
    },
    {
     "name": "stdout",
     "output_type": "stream",
     "text": [
      "Keypoints saved to keypoints_output\\test\\deaf.npz\n"
     ]
    },
    {
     "name": "stderr",
     "output_type": "stream",
     "text": [
      "Processing test:  17%|█▋        | 2/12 [00:04<00:22,  2.24s/it]"
     ]
    },
    {
     "name": "stdout",
     "output_type": "stream",
     "text": [
      "Keypoints saved to keypoints_output\\test\\drink.npz\n"
     ]
    },
    {
     "name": "stderr",
     "output_type": "stream",
     "text": [
      "Processing test:  25%|██▌       | 3/12 [00:06<00:17,  1.94s/it]"
     ]
    },
    {
     "name": "stdout",
     "output_type": "stream",
     "text": [
      "Keypoints saved to keypoints_output\\test\\fine.npz\n"
     ]
    },
    {
     "name": "stderr",
     "output_type": "stream",
     "text": [
      "Processing test:  33%|███▎      | 4/12 [00:07<00:14,  1.82s/it]"
     ]
    },
    {
     "name": "stdout",
     "output_type": "stream",
     "text": [
      "Keypoints saved to keypoints_output\\test\\food.npz\n"
     ]
    },
    {
     "name": "stderr",
     "output_type": "stream",
     "text": [
      "Processing test:  42%|████▏     | 5/12 [00:09<00:12,  1.75s/it]"
     ]
    },
    {
     "name": "stdout",
     "output_type": "stream",
     "text": [
      "Keypoints saved to keypoints_output\\test\\go.npz\n"
     ]
    },
    {
     "name": "stderr",
     "output_type": "stream",
     "text": [
      "Processing test:  50%|█████     | 6/12 [00:11<00:10,  1.70s/it]"
     ]
    },
    {
     "name": "stdout",
     "output_type": "stream",
     "text": [
      "Keypoints saved to keypoints_output\\test\\hello.npz\n"
     ]
    },
    {
     "name": "stderr",
     "output_type": "stream",
     "text": [
      "Processing test:  58%|█████▊    | 7/12 [00:12<00:08,  1.68s/it]"
     ]
    },
    {
     "name": "stdout",
     "output_type": "stream",
     "text": [
      "Keypoints saved to keypoints_output\\test\\help.npz\n"
     ]
    },
    {
     "name": "stderr",
     "output_type": "stream",
     "text": [
      "Processing test:  67%|██████▋   | 8/12 [00:14<00:06,  1.65s/it]"
     ]
    },
    {
     "name": "stdout",
     "output_type": "stream",
     "text": [
      "Keypoints saved to keypoints_output\\test\\name.npz\n"
     ]
    },
    {
     "name": "stderr",
     "output_type": "stream",
     "text": [
      "Processing test:  75%|███████▌  | 9/12 [00:15<00:04,  1.63s/it]"
     ]
    },
    {
     "name": "stdout",
     "output_type": "stream",
     "text": [
      "Keypoints saved to keypoints_output\\test\\need.npz\n"
     ]
    },
    {
     "name": "stderr",
     "output_type": "stream",
     "text": [
      "Processing test:  83%|████████▎ | 10/12 [00:17<00:03,  1.64s/it]"
     ]
    },
    {
     "name": "stdout",
     "output_type": "stream",
     "text": [
      "Keypoints saved to keypoints_output\\test\\no.npz\n"
     ]
    },
    {
     "name": "stderr",
     "output_type": "stream",
     "text": [
      "Processing test:  92%|█████████▏| 11/12 [00:19<00:01,  1.62s/it]"
     ]
    },
    {
     "name": "stdout",
     "output_type": "stream",
     "text": [
      "Keypoints saved to keypoints_output\\test\\sick.npz\n"
     ]
    },
    {
     "name": "stderr",
     "output_type": "stream",
     "text": [
      "                                                                \r"
     ]
    },
    {
     "name": "stdout",
     "output_type": "stream",
     "text": [
      "Keypoints saved to keypoints_output\\test\\sorry.npz\n"
     ]
    },
    {
     "name": "stderr",
     "output_type": "stream",
     "text": [
      "Processing train:   8%|▊         | 1/12 [00:01<00:17,  1.60s/it]"
     ]
    },
    {
     "name": "stdout",
     "output_type": "stream",
     "text": [
      "Keypoints saved to keypoints_output\\train\\deaf.npz\n"
     ]
    },
    {
     "name": "stderr",
     "output_type": "stream",
     "text": [
      "Processing train:  17%|█▋        | 2/12 [00:03<00:15,  1.58s/it]"
     ]
    },
    {
     "name": "stdout",
     "output_type": "stream",
     "text": [
      "Keypoints saved to keypoints_output\\train\\drink.npz\n"
     ]
    },
    {
     "name": "stderr",
     "output_type": "stream",
     "text": [
      "Processing train:  25%|██▌       | 3/12 [00:04<00:15,  1.67s/it]"
     ]
    },
    {
     "name": "stdout",
     "output_type": "stream",
     "text": [
      "Keypoints saved to keypoints_output\\train\\fine.npz\n"
     ]
    },
    {
     "name": "stderr",
     "output_type": "stream",
     "text": [
      "Processing train:  33%|███▎      | 4/12 [00:06<00:13,  1.66s/it]"
     ]
    },
    {
     "name": "stdout",
     "output_type": "stream",
     "text": [
      "Keypoints saved to keypoints_output\\train\\food.npz\n"
     ]
    },
    {
     "name": "stderr",
     "output_type": "stream",
     "text": [
      "Processing train:  42%|████▏     | 5/12 [00:08<00:11,  1.66s/it]"
     ]
    },
    {
     "name": "stdout",
     "output_type": "stream",
     "text": [
      "Keypoints saved to keypoints_output\\train\\go.npz\n"
     ]
    },
    {
     "name": "stderr",
     "output_type": "stream",
     "text": [
      "Processing train:  50%|█████     | 6/12 [00:09<00:09,  1.63s/it]"
     ]
    },
    {
     "name": "stdout",
     "output_type": "stream",
     "text": [
      "Keypoints saved to keypoints_output\\train\\hello.npz\n"
     ]
    },
    {
     "name": "stderr",
     "output_type": "stream",
     "text": [
      "Processing train:  58%|█████▊    | 7/12 [00:11<00:08,  1.61s/it]"
     ]
    },
    {
     "name": "stdout",
     "output_type": "stream",
     "text": [
      "Keypoints saved to keypoints_output\\train\\help.npz\n"
     ]
    },
    {
     "name": "stderr",
     "output_type": "stream",
     "text": [
      "Processing train:  67%|██████▋   | 8/12 [00:13<00:06,  1.62s/it]"
     ]
    },
    {
     "name": "stdout",
     "output_type": "stream",
     "text": [
      "Keypoints saved to keypoints_output\\train\\name.npz\n"
     ]
    },
    {
     "name": "stderr",
     "output_type": "stream",
     "text": [
      "Processing train:  75%|███████▌  | 9/12 [00:14<00:04,  1.61s/it]"
     ]
    },
    {
     "name": "stdout",
     "output_type": "stream",
     "text": [
      "Keypoints saved to keypoints_output\\train\\need.npz\n"
     ]
    },
    {
     "name": "stderr",
     "output_type": "stream",
     "text": [
      "Processing train:  83%|████████▎ | 10/12 [00:16<00:03,  1.66s/it]"
     ]
    },
    {
     "name": "stdout",
     "output_type": "stream",
     "text": [
      "Keypoints saved to keypoints_output\\train\\no.npz\n"
     ]
    },
    {
     "name": "stderr",
     "output_type": "stream",
     "text": [
      "Processing train:  92%|█████████▏| 11/12 [00:18<00:01,  1.69s/it]"
     ]
    },
    {
     "name": "stdout",
     "output_type": "stream",
     "text": [
      "Keypoints saved to keypoints_output\\train\\sick.npz\n"
     ]
    },
    {
     "name": "stderr",
     "output_type": "stream",
     "text": [
      "                                                                 \r"
     ]
    },
    {
     "name": "stdout",
     "output_type": "stream",
     "text": [
      "Keypoints saved to keypoints_output\\train\\sorry.npz\n"
     ]
    },
    {
     "name": "stderr",
     "output_type": "stream",
     "text": [
      "Processing val:   8%|▊         | 1/12 [00:01<00:18,  1.65s/it]"
     ]
    },
    {
     "name": "stdout",
     "output_type": "stream",
     "text": [
      "Keypoints saved to keypoints_output\\val\\deaf.npz\n"
     ]
    },
    {
     "name": "stderr",
     "output_type": "stream",
     "text": [
      "Processing val:  17%|█▋        | 2/12 [00:03<00:15,  1.59s/it]"
     ]
    },
    {
     "name": "stdout",
     "output_type": "stream",
     "text": [
      "Keypoints saved to keypoints_output\\val\\drink.npz\n"
     ]
    },
    {
     "name": "stderr",
     "output_type": "stream",
     "text": [
      "Processing val:  25%|██▌       | 3/12 [00:04<00:14,  1.59s/it]"
     ]
    },
    {
     "name": "stdout",
     "output_type": "stream",
     "text": [
      "Keypoints saved to keypoints_output\\val\\fine.npz\n"
     ]
    },
    {
     "name": "stderr",
     "output_type": "stream",
     "text": [
      "Processing val:  33%|███▎      | 4/12 [00:06<00:12,  1.58s/it]"
     ]
    },
    {
     "name": "stdout",
     "output_type": "stream",
     "text": [
      "Keypoints saved to keypoints_output\\val\\food.npz\n"
     ]
    },
    {
     "name": "stderr",
     "output_type": "stream",
     "text": [
      "Processing val:  42%|████▏     | 5/12 [00:07<00:11,  1.58s/it]"
     ]
    },
    {
     "name": "stdout",
     "output_type": "stream",
     "text": [
      "Keypoints saved to keypoints_output\\val\\go.npz\n"
     ]
    },
    {
     "name": "stderr",
     "output_type": "stream",
     "text": [
      "Processing val:  50%|█████     | 6/12 [00:09<00:09,  1.57s/it]"
     ]
    },
    {
     "name": "stdout",
     "output_type": "stream",
     "text": [
      "Keypoints saved to keypoints_output\\val\\hello.npz\n"
     ]
    },
    {
     "name": "stderr",
     "output_type": "stream",
     "text": [
      "Processing val:  58%|█████▊    | 7/12 [00:11<00:08,  1.68s/it]"
     ]
    },
    {
     "name": "stdout",
     "output_type": "stream",
     "text": [
      "Keypoints saved to keypoints_output\\val\\help.npz\n"
     ]
    },
    {
     "name": "stderr",
     "output_type": "stream",
     "text": [
      "Processing val:  67%|██████▋   | 8/12 [00:13<00:06,  1.68s/it]"
     ]
    },
    {
     "name": "stdout",
     "output_type": "stream",
     "text": [
      "Keypoints saved to keypoints_output\\val\\name.npz\n"
     ]
    },
    {
     "name": "stderr",
     "output_type": "stream",
     "text": [
      "Processing val:  75%|███████▌  | 9/12 [00:14<00:05,  1.68s/it]"
     ]
    },
    {
     "name": "stdout",
     "output_type": "stream",
     "text": [
      "Keypoints saved to keypoints_output\\val\\need.npz\n"
     ]
    },
    {
     "name": "stderr",
     "output_type": "stream",
     "text": [
      "Processing val:  83%|████████▎ | 10/12 [00:16<00:03,  1.70s/it]"
     ]
    },
    {
     "name": "stdout",
     "output_type": "stream",
     "text": [
      "Keypoints saved to keypoints_output\\val\\no.npz\n"
     ]
    },
    {
     "name": "stderr",
     "output_type": "stream",
     "text": [
      "Processing val:  92%|█████████▏| 11/12 [00:18<00:01,  1.73s/it]"
     ]
    },
    {
     "name": "stdout",
     "output_type": "stream",
     "text": [
      "Keypoints saved to keypoints_output\\val\\sick.npz\n"
     ]
    },
    {
     "name": "stderr",
     "output_type": "stream",
     "text": [
      "                                                               "
     ]
    },
    {
     "name": "stdout",
     "output_type": "stream",
     "text": [
      "Keypoints saved to keypoints_output\\val\\sorry.npz\n"
     ]
    },
    {
     "name": "stderr",
     "output_type": "stream",
     "text": [
      "\r"
     ]
    }
   ],
   "source": [
    "import cv2 as cv\n",
    "import numpy as np\n",
    "import os\n",
    "from tqdm import tqdm\n",
    "from joblib import Parallel, delayed\n",
    "\n",
    "# Directory structure configuration\n",
    "dataset_dir = 'split_videos'\n",
    "output_dir = 'keypoints_output'\n",
    "\n",
    "# Ensure the output directory exists\n",
    "os.makedirs(output_dir, exist_ok=True)\n",
    "\n",
    "BODY_PARTS = {\"Nose\": 0, \"Neck\": 1, \"RShoulder\": 2, \"RElbow\": 3, \"RWrist\": 4,\n",
    "              \"LShoulder\": 5, \"LElbow\": 6, \"LWrist\": 7, \"RHip\": 8, \"RKnee\": 9,\n",
    "              \"RAnkle\": 10, \"LHip\": 11, \"LKnee\": 12, \"LAnkle\": 13, \"REye\": 14,\n",
    "              \"LEye\": 15, \"REar\": 16, \"LEar\": 17, \"Background\": 18}\n",
    "\n",
    "HAND_PARTS = 22\n",
    "FACE_PARTS = 70\n",
    "\n",
    "# Model paths\n",
    "body_proto = \"body/pose_deploy_linevec.prototxt\"\n",
    "body_model = \"body/pose_iter_440000.caffemodel\"\n",
    "hand_proto = \"hand/pose_deploy.prototxt\"\n",
    "hand_model = \"hand/pose_iter_102000.caffemodel\"\n",
    "face_proto = \"face/pose_deploy.prototxt\"\n",
    "face_model = \"face/pose_iter_116000.caffemodel\"\n",
    "\n",
    "def check_file_exists(filepath):\n",
    "    if os.path.isfile(filepath):\n",
    "        print(f\"Found: {filepath}\")\n",
    "    else:\n",
    "        print(f\"Not Found: {filepath}\")\n",
    "        raise FileNotFoundError(f\"File not found: {filepath}\")\n",
    "\n",
    "check_file_exists(body_proto)\n",
    "check_file_exists(body_model)\n",
    "check_file_exists(hand_proto)\n",
    "check_file_exists(hand_model)\n",
    "check_file_exists(face_proto)\n",
    "check_file_exists(face_model)\n",
    "\n",
    "def get_keypoints(net, frame, width, height, threshold, num_parts):\n",
    "    net.setInput(cv.dnn.blobFromImage(frame, 1.0, (width, height), (127.5, 127.5, 127.5), swapRB=True, crop=False))\n",
    "    out = net.forward()\n",
    "    points = []\n",
    "    for i in range(num_parts):\n",
    "        heatMap = out[0, i, :, :]\n",
    "        _, conf, _, point = cv.minMaxLoc(heatMap)\n",
    "        x = (frame.shape[1] * point[0]) / out.shape[3]\n",
    "        y = (frame.shape[0] * point[1]) / out.shape[2]\n",
    "        points.append((int(x), int(y)) if conf > threshold else None)\n",
    "    return points\n",
    "\n",
    "def process_video(video_path, output_path, width=368, height=368, threshold=0.2, fps=5):\n",
    "    # Load models within the function to avoid pickling issues\n",
    "    net_body = cv.dnn.readNetFromCaffe(body_proto, body_model)\n",
    "    net_hand = cv.dnn.readNetFromCaffe(hand_proto, hand_model)\n",
    "    net_face = cv.dnn.readNetFromCaffe(face_proto, face_model)\n",
    "\n",
    "    cap = cv.VideoCapture(video_path)\n",
    "    keypoints_data = []\n",
    "    frame_count = 0\n",
    "    frame_rate = cap.get(cv.CAP_PROP_FPS)\n",
    "    sample_rate = int(frame_rate / fps)\n",
    "\n",
    "    while True:\n",
    "        hasFrame, frame = cap.read()\n",
    "        if not hasFrame:\n",
    "            break\n",
    "\n",
    "        if frame_count % sample_rate == 0:\n",
    "            body_keypoints = get_keypoints(net_body, frame, width, height, threshold, len(BODY_PARTS))\n",
    "            hand_keypoints = get_keypoints(net_hand, frame, width, height, threshold, HAND_PARTS)\n",
    "            face_keypoints = get_keypoints(net_face, frame, width, height, threshold, FACE_PARTS)\n",
    "\n",
    "            keypoints_data.append({\n",
    "                'body': body_keypoints,\n",
    "                'hands': hand_keypoints,\n",
    "                'face': face_keypoints\n",
    "            })\n",
    "        \n",
    "        frame_count += 1\n",
    "\n",
    "    cap.release()\n",
    "    \n",
    "    # Save the keypoints to a file\n",
    "    np.savez(output_path, keypoints=keypoints_data)\n",
    "    print(f\"Keypoints saved to {output_path}\")\n",
    "\n",
    "def process_batch(class_names):\n",
    "    for class_name in class_names:\n",
    "        class_dir = os.path.join(dataset_dir, class_name)\n",
    "        output_class_dir = os.path.join(output_dir, class_name)\n",
    "        os.makedirs(output_class_dir, exist_ok=True)\n",
    "        \n",
    "        for video_name in tqdm(os.listdir(class_dir), desc=f'Processing {class_name}', leave=False):\n",
    "            video_path = os.path.join(class_dir, video_name)\n",
    "            output_path = os.path.join(output_class_dir, os.path.splitext(video_name)[0] + '.npz')\n",
    "            process_video(video_path, output_path)\n",
    "\n",
    "# Get the list of class names\n",
    "class_names = os.listdir(dataset_dir)\n",
    "\n",
    "# Define batch size\n",
    "batch_size = 5\n",
    "\n",
    "# Process classes in batches\n",
    "for i in range(0, len(class_names), batch_size):\n",
    "    batch = class_names[i:i + batch_size]\n",
    "    process_batch(batch)\n"
   ]
  },
  {
   "cell_type": "code",
   "execution_count": 18,
   "metadata": {},
   "outputs": [
    {
     "name": "stderr",
     "output_type": "stream",
     "text": [
      "Processing test:   8%|▊         | 1/12 [00:01<00:19,  1.75s/it]"
     ]
    },
    {
     "name": "stdout",
     "output_type": "stream",
     "text": [
      "Keypoints saved to keypoints_output\\test\\deaf.npz\n"
     ]
    },
    {
     "name": "stderr",
     "output_type": "stream",
     "text": [
      "Processing test:  17%|█▋        | 2/12 [00:03<00:16,  1.66s/it]"
     ]
    },
    {
     "name": "stdout",
     "output_type": "stream",
     "text": [
      "Keypoints saved to keypoints_output\\test\\drink.npz\n"
     ]
    },
    {
     "name": "stderr",
     "output_type": "stream",
     "text": [
      "Processing test:  25%|██▌       | 3/12 [00:04<00:14,  1.63s/it]"
     ]
    },
    {
     "name": "stdout",
     "output_type": "stream",
     "text": [
      "Keypoints saved to keypoints_output\\test\\fine.npz\n"
     ]
    },
    {
     "name": "stderr",
     "output_type": "stream",
     "text": [
      "Processing test:  33%|███▎      | 4/12 [00:06<00:13,  1.65s/it]"
     ]
    },
    {
     "name": "stdout",
     "output_type": "stream",
     "text": [
      "Keypoints saved to keypoints_output\\test\\food.npz\n"
     ]
    },
    {
     "name": "stderr",
     "output_type": "stream",
     "text": [
      "Processing test:  42%|████▏     | 5/12 [00:08<00:11,  1.64s/it]"
     ]
    },
    {
     "name": "stdout",
     "output_type": "stream",
     "text": [
      "Keypoints saved to keypoints_output\\test\\go.npz\n"
     ]
    },
    {
     "name": "stderr",
     "output_type": "stream",
     "text": [
      "Processing test:  50%|█████     | 6/12 [00:09<00:09,  1.62s/it]"
     ]
    },
    {
     "name": "stdout",
     "output_type": "stream",
     "text": [
      "Keypoints saved to keypoints_output\\test\\hello.npz\n"
     ]
    },
    {
     "name": "stderr",
     "output_type": "stream",
     "text": [
      "Processing test:  58%|█████▊    | 7/12 [00:11<00:08,  1.65s/it]"
     ]
    },
    {
     "name": "stdout",
     "output_type": "stream",
     "text": [
      "Keypoints saved to keypoints_output\\test\\help.npz\n"
     ]
    },
    {
     "name": "stderr",
     "output_type": "stream",
     "text": [
      "Processing test:  67%|██████▋   | 8/12 [00:13<00:06,  1.63s/it]"
     ]
    },
    {
     "name": "stdout",
     "output_type": "stream",
     "text": [
      "Keypoints saved to keypoints_output\\test\\name.npz\n"
     ]
    },
    {
     "name": "stderr",
     "output_type": "stream",
     "text": [
      "Processing test:  75%|███████▌  | 9/12 [00:14<00:04,  1.61s/it]"
     ]
    },
    {
     "name": "stdout",
     "output_type": "stream",
     "text": [
      "Keypoints saved to keypoints_output\\test\\need.npz\n"
     ]
    },
    {
     "name": "stderr",
     "output_type": "stream",
     "text": [
      "Processing test:  83%|████████▎ | 10/12 [00:16<00:03,  1.63s/it]"
     ]
    },
    {
     "name": "stdout",
     "output_type": "stream",
     "text": [
      "Keypoints saved to keypoints_output\\test\\no.npz\n"
     ]
    },
    {
     "name": "stderr",
     "output_type": "stream",
     "text": [
      "Processing test:  92%|█████████▏| 11/12 [00:17<00:01,  1.62s/it]"
     ]
    },
    {
     "name": "stdout",
     "output_type": "stream",
     "text": [
      "Keypoints saved to keypoints_output\\test\\sick.npz\n"
     ]
    },
    {
     "name": "stderr",
     "output_type": "stream",
     "text": [
      "                                                                \r"
     ]
    },
    {
     "name": "stdout",
     "output_type": "stream",
     "text": [
      "Keypoints saved to keypoints_output\\test\\sorry.npz\n"
     ]
    },
    {
     "name": "stderr",
     "output_type": "stream",
     "text": [
      "Processing train:   8%|▊         | 1/12 [00:02<00:22,  2.00s/it]"
     ]
    },
    {
     "name": "stdout",
     "output_type": "stream",
     "text": [
      "Keypoints saved to keypoints_output\\train\\deaf.npz\n"
     ]
    },
    {
     "name": "stderr",
     "output_type": "stream",
     "text": [
      "Processing train:  17%|█▋        | 2/12 [00:03<00:18,  1.81s/it]"
     ]
    },
    {
     "name": "stdout",
     "output_type": "stream",
     "text": [
      "Keypoints saved to keypoints_output\\train\\drink.npz\n"
     ]
    },
    {
     "name": "stderr",
     "output_type": "stream",
     "text": [
      "Processing train:  25%|██▌       | 3/12 [00:05<00:15,  1.77s/it]"
     ]
    },
    {
     "name": "stdout",
     "output_type": "stream",
     "text": [
      "Keypoints saved to keypoints_output\\train\\fine.npz\n"
     ]
    },
    {
     "name": "stderr",
     "output_type": "stream",
     "text": [
      "Processing train:  33%|███▎      | 4/12 [00:07<00:14,  1.86s/it]"
     ]
    },
    {
     "name": "stdout",
     "output_type": "stream",
     "text": [
      "Keypoints saved to keypoints_output\\train\\food.npz\n"
     ]
    },
    {
     "name": "stderr",
     "output_type": "stream",
     "text": [
      "Processing train:  42%|████▏     | 5/12 [00:09<00:12,  1.85s/it]"
     ]
    },
    {
     "name": "stdout",
     "output_type": "stream",
     "text": [
      "Keypoints saved to keypoints_output\\train\\go.npz\n"
     ]
    },
    {
     "name": "stderr",
     "output_type": "stream",
     "text": [
      "Processing train:  50%|█████     | 6/12 [00:11<00:10,  1.83s/it]"
     ]
    },
    {
     "name": "stdout",
     "output_type": "stream",
     "text": [
      "Keypoints saved to keypoints_output\\train\\hello.npz\n"
     ]
    },
    {
     "name": "stderr",
     "output_type": "stream",
     "text": [
      "Processing train:  58%|█████▊    | 7/12 [00:12<00:08,  1.77s/it]"
     ]
    },
    {
     "name": "stdout",
     "output_type": "stream",
     "text": [
      "Keypoints saved to keypoints_output\\train\\help.npz\n"
     ]
    },
    {
     "name": "stderr",
     "output_type": "stream",
     "text": [
      "Processing train:  67%|██████▋   | 8/12 [00:14<00:06,  1.74s/it]"
     ]
    },
    {
     "name": "stdout",
     "output_type": "stream",
     "text": [
      "Keypoints saved to keypoints_output\\train\\name.npz\n"
     ]
    },
    {
     "name": "stderr",
     "output_type": "stream",
     "text": [
      "Processing train:  75%|███████▌  | 9/12 [00:16<00:05,  1.77s/it]"
     ]
    },
    {
     "name": "stdout",
     "output_type": "stream",
     "text": [
      "Keypoints saved to keypoints_output\\train\\need.npz\n"
     ]
    },
    {
     "name": "stderr",
     "output_type": "stream",
     "text": [
      "Processing train:  83%|████████▎ | 10/12 [00:18<00:03,  1.85s/it]"
     ]
    },
    {
     "name": "stdout",
     "output_type": "stream",
     "text": [
      "Keypoints saved to keypoints_output\\train\\no.npz\n"
     ]
    },
    {
     "name": "stderr",
     "output_type": "stream",
     "text": [
      "Processing train:  92%|█████████▏| 11/12 [00:20<00:01,  1.88s/it]"
     ]
    },
    {
     "name": "stdout",
     "output_type": "stream",
     "text": [
      "Keypoints saved to keypoints_output\\train\\sick.npz\n"
     ]
    },
    {
     "name": "stderr",
     "output_type": "stream",
     "text": [
      "                                                                 \r"
     ]
    },
    {
     "name": "stdout",
     "output_type": "stream",
     "text": [
      "Keypoints saved to keypoints_output\\train\\sorry.npz\n"
     ]
    },
    {
     "name": "stderr",
     "output_type": "stream",
     "text": [
      "Processing val:   8%|▊         | 1/12 [00:01<00:18,  1.65s/it]"
     ]
    },
    {
     "name": "stdout",
     "output_type": "stream",
     "text": [
      "Keypoints saved to keypoints_output\\val\\deaf.npz\n"
     ]
    },
    {
     "name": "stderr",
     "output_type": "stream",
     "text": [
      "Processing val:  17%|█▋        | 2/12 [00:03<00:16,  1.65s/it]"
     ]
    },
    {
     "name": "stdout",
     "output_type": "stream",
     "text": [
      "Keypoints saved to keypoints_output\\val\\drink.npz\n"
     ]
    },
    {
     "name": "stderr",
     "output_type": "stream",
     "text": [
      "Processing val:  25%|██▌       | 3/12 [00:04<00:14,  1.64s/it]"
     ]
    },
    {
     "name": "stdout",
     "output_type": "stream",
     "text": [
      "Keypoints saved to keypoints_output\\val\\fine.npz\n"
     ]
    },
    {
     "name": "stderr",
     "output_type": "stream",
     "text": [
      "Processing val:  33%|███▎      | 4/12 [00:06<00:13,  1.64s/it]"
     ]
    },
    {
     "name": "stdout",
     "output_type": "stream",
     "text": [
      "Keypoints saved to keypoints_output\\val\\food.npz\n"
     ]
    },
    {
     "name": "stderr",
     "output_type": "stream",
     "text": [
      "Processing val:  42%|████▏     | 5/12 [00:08<00:11,  1.68s/it]"
     ]
    },
    {
     "name": "stdout",
     "output_type": "stream",
     "text": [
      "Keypoints saved to keypoints_output\\val\\go.npz\n"
     ]
    },
    {
     "name": "stderr",
     "output_type": "stream",
     "text": [
      "Processing val:  50%|█████     | 6/12 [00:10<00:10,  1.68s/it]"
     ]
    },
    {
     "name": "stdout",
     "output_type": "stream",
     "text": [
      "Keypoints saved to keypoints_output\\val\\hello.npz\n"
     ]
    },
    {
     "name": "stderr",
     "output_type": "stream",
     "text": [
      "Processing val:  58%|█████▊    | 7/12 [00:11<00:08,  1.67s/it]"
     ]
    },
    {
     "name": "stdout",
     "output_type": "stream",
     "text": [
      "Keypoints saved to keypoints_output\\val\\help.npz\n"
     ]
    },
    {
     "name": "stderr",
     "output_type": "stream",
     "text": [
      "Processing val:  67%|██████▋   | 8/12 [00:13<00:06,  1.70s/it]"
     ]
    },
    {
     "name": "stdout",
     "output_type": "stream",
     "text": [
      "Keypoints saved to keypoints_output\\val\\name.npz\n"
     ]
    },
    {
     "name": "stderr",
     "output_type": "stream",
     "text": [
      "Processing val:  75%|███████▌  | 9/12 [00:15<00:05,  1.69s/it]"
     ]
    },
    {
     "name": "stdout",
     "output_type": "stream",
     "text": [
      "Keypoints saved to keypoints_output\\val\\need.npz\n"
     ]
    },
    {
     "name": "stderr",
     "output_type": "stream",
     "text": [
      "Processing val:  83%|████████▎ | 10/12 [00:17<00:03,  1.80s/it]"
     ]
    },
    {
     "name": "stdout",
     "output_type": "stream",
     "text": [
      "Keypoints saved to keypoints_output\\val\\no.npz\n"
     ]
    },
    {
     "name": "stderr",
     "output_type": "stream",
     "text": [
      "Processing val:  92%|█████████▏| 11/12 [00:18<00:01,  1.78s/it]"
     ]
    },
    {
     "name": "stdout",
     "output_type": "stream",
     "text": [
      "Keypoints saved to keypoints_output\\val\\sick.npz\n"
     ]
    },
    {
     "name": "stderr",
     "output_type": "stream",
     "text": [
      "                                                               "
     ]
    },
    {
     "name": "stdout",
     "output_type": "stream",
     "text": [
      "Keypoints saved to keypoints_output\\val\\sorry.npz\n"
     ]
    },
    {
     "name": "stderr",
     "output_type": "stream",
     "text": [
      "\r"
     ]
    }
   ],
   "source": [
    "def process_batch(class_names):\n",
    "    for class_name in class_names:\n",
    "        class_dir = os.path.join(dataset_dir, class_name)\n",
    "        output_class_dir = os.path.join(output_dir, class_name)\n",
    "        os.makedirs(output_class_dir, exist_ok=True)\n",
    "        \n",
    "        for video_name in tqdm(os.listdir(class_dir), desc=f'Processing {class_name}', leave=False):\n",
    "            video_path = os.path.join(class_dir, video_name)\n",
    "            output_path = os.path.join(output_class_dir, os.path.splitext(video_name)[0] + '.npz')\n",
    "            process_video(video_path, output_path)\n",
    "\n",
    "# Get the list of class names\n",
    "class_names = os.listdir(dataset_dir)\n",
    "\n",
    "# Define batch size\n",
    "batch_size = 5\n",
    "\n",
    "# Process classes in batches\n",
    "for i in range(0, len(class_names), batch_size):\n",
    "    batch = class_names[i:i + batch_size]\n",
    "    process_batch(batch)\n"
   ]
  },
  {
   "cell_type": "code",
   "execution_count": 22,
   "metadata": {},
   "outputs": [
    {
     "name": "stdout",
     "output_type": "stream",
     "text": [
      "Found: body/pose_deploy_linevec.prototxt\n",
      "Found: body/pose_iter_440000.caffemodel\n",
      "Found: hand/pose_deploy.prototxt\n",
      "Found: hand/pose_iter_102000.caffemodel\n",
      "Found: face/pose_deploy.prototxt\n",
      "Found: face/pose_iter_116000.caffemodel\n"
     ]
    },
    {
     "name": "stderr",
     "output_type": "stream",
     "text": [
      "Processing deaf in train:   0%|          | 0/25 [00:00<?, ?it/s]"
     ]
    },
    {
     "name": "stdout",
     "output_type": "stream",
     "text": [
      "Keypoints saved to keypoints_output\\train\\deaf\\14882 - Copy.npz\n"
     ]
    },
    {
     "name": "stderr",
     "output_type": "stream",
     "text": [
      "Processing deaf in train:   4%|▍         | 1/25 [02:55<1:10:20, 175.86s/it]"
     ]
    },
    {
     "name": "stdout",
     "output_type": "stream",
     "text": [
      "Keypoints saved to keypoints_output\\train\\deaf\\14883 - Copy.npz\n"
     ]
    },
    {
     "name": "stderr",
     "output_type": "stream",
     "text": [
      "Processing deaf in train:  12%|█▏        | 3/25 [04:17<26:05, 71.16s/it]   "
     ]
    },
    {
     "name": "stdout",
     "output_type": "stream",
     "text": [
      "Keypoints saved to keypoints_output\\train\\deaf\\14883.npz\n"
     ]
    },
    {
     "name": "stderr",
     "output_type": "stream",
     "text": [
      "Processing deaf in train:  16%|█▌        | 4/25 [05:22<23:59, 68.56s/it]"
     ]
    },
    {
     "name": "stdout",
     "output_type": "stream",
     "text": [
      "Keypoints saved to keypoints_output\\train\\deaf\\14884 - Copy.npz\n",
      "Keypoints saved to keypoints_output\\train\\deaf\\14884.npz\n"
     ]
    },
    {
     "name": "stderr",
     "output_type": "stream",
     "text": [
      "Processing deaf in train:  20%|██        | 5/25 [06:27<22:21, 67.08s/it]"
     ]
    },
    {
     "name": "stdout",
     "output_type": "stream",
     "text": [
      "Keypoints saved to keypoints_output\\train\\deaf\\14885 - Copy.npz\n"
     ]
    },
    {
     "name": "stderr",
     "output_type": "stream",
     "text": [
      "Processing deaf in train:  24%|██▍       | 6/25 [07:15<19:13, 60.69s/it]"
     ]
    },
    {
     "name": "stdout",
     "output_type": "stream",
     "text": [
      "Keypoints saved to keypoints_output\\train\\deaf\\14885.npz\n"
     ]
    },
    {
     "name": "stderr",
     "output_type": "stream",
     "text": [
      "Processing deaf in train:  28%|██▊       | 7/25 [08:03<17:01, 56.74s/it]"
     ]
    },
    {
     "name": "stdout",
     "output_type": "stream",
     "text": [
      "Keypoints saved to keypoints_output\\train\\deaf\\14886 - Copy.npz\n"
     ]
    },
    {
     "name": "stderr",
     "output_type": "stream",
     "text": [
      "Processing deaf in train:  32%|███▏      | 8/25 [09:07<16:41, 58.93s/it]"
     ]
    },
    {
     "name": "stdout",
     "output_type": "stream",
     "text": [
      "Keypoints saved to keypoints_output\\train\\deaf\\14886.npz\n"
     ]
    },
    {
     "name": "stderr",
     "output_type": "stream",
     "text": [
      "Processing deaf in train:  36%|███▌      | 9/25 [10:10<16:03, 60.24s/it]"
     ]
    },
    {
     "name": "stdout",
     "output_type": "stream",
     "text": [
      "Keypoints saved to keypoints_output\\train\\deaf\\14887 - Copy.npz\n"
     ]
    },
    {
     "name": "stderr",
     "output_type": "stream",
     "text": [
      "Processing deaf in train:  40%|████      | 10/25 [11:38<17:10, 68.67s/it]"
     ]
    },
    {
     "name": "stdout",
     "output_type": "stream",
     "text": [
      "Keypoints saved to keypoints_output\\train\\deaf\\14888.npz\n"
     ]
    },
    {
     "name": "stderr",
     "output_type": "stream",
     "text": [
      "Processing deaf in train:  44%|████▍     | 11/25 [13:26<18:53, 80.94s/it]"
     ]
    },
    {
     "name": "stdout",
     "output_type": "stream",
     "text": [
      "Keypoints saved to keypoints_output\\train\\deaf\\14893.npz\n"
     ]
    },
    {
     "name": "stderr",
     "output_type": "stream",
     "text": [
      "Processing deaf in train:  48%|████▊     | 12/25 [14:38<16:53, 77.94s/it]"
     ]
    },
    {
     "name": "stdout",
     "output_type": "stream",
     "text": [
      "Keypoints saved to keypoints_output\\train\\deaf\\14894.npz\n"
     ]
    },
    {
     "name": "stderr",
     "output_type": "stream",
     "text": [
      "Processing deaf in train:  56%|█████▌    | 14/25 [17:32<15:34, 84.95s/it]"
     ]
    },
    {
     "name": "stdout",
     "output_type": "stream",
     "text": [
      "Keypoints saved to keypoints_output\\train\\deaf\\14903.npz\n",
      "Keypoints saved to keypoints_output\\train\\deaf\\65445 - Copy.npz\n"
     ]
    },
    {
     "name": "stderr",
     "output_type": "stream",
     "text": [
      "Processing deaf in train:  64%|██████▍   | 16/25 [20:56<14:03, 93.72s/it]"
     ]
    },
    {
     "name": "stdout",
     "output_type": "stream",
     "text": [
      "Keypoints saved to keypoints_output\\train\\deaf\\65445.npz\n"
     ]
    },
    {
     "name": "stderr",
     "output_type": "stream",
     "text": [
      "Processing deaf in train:  68%|██████▊   | 17/25 [23:39<15:15, 114.41s/it]"
     ]
    },
    {
     "name": "stdout",
     "output_type": "stream",
     "text": [
      "Keypoints saved to keypoints_output\\train\\deaf\\deaf - Copy.npz\n",
      "Keypoints saved to keypoints_output\\train\\deaf\\how-to-sign-deaf-sign-in-american-sign-language-asl_2iKED0Qh - Copy.npz\n"
     ]
    },
    {
     "name": "stderr",
     "output_type": "stream",
     "text": [
      "Processing deaf in train:  72%|███████▏  | 18/25 [25:20<12:53, 110.55s/it]"
     ]
    },
    {
     "name": "stdout",
     "output_type": "stream",
     "text": [
      "Keypoints saved to keypoints_output\\train\\deaf\\how-to-sign-deaf-sign-in-american-sign-language-asl_2iKED0Qh.npz\n"
     ]
    },
    {
     "name": "stderr",
     "output_type": "stream",
     "text": [
      "Processing deaf in train:  80%|████████  | 20/25 [31:11<12:31, 150.32s/it]"
     ]
    },
    {
     "name": "stdout",
     "output_type": "stream",
     "text": [
      "Keypoints saved to keypoints_output\\train\\deaf\\WhatsApp Video 2024-07-05 at 1.04.25 PM.npz\n"
     ]
    },
    {
     "name": "stderr",
     "output_type": "stream",
     "text": [
      "Processing deaf in train:  84%|████████▍ | 21/25 [33:14<09:28, 142.05s/it]"
     ]
    },
    {
     "name": "stdout",
     "output_type": "stream",
     "text": [
      "Keypoints saved to keypoints_output\\train\\deaf\\WhatsApp Video 2024-07-05 at 1.04.27 PM.npz\n"
     ]
    },
    {
     "name": "stderr",
     "output_type": "stream",
     "text": [
      "Processing deaf in train:  88%|████████▊ | 22/25 [37:10<08:31, 170.47s/it]"
     ]
    },
    {
     "name": "stdout",
     "output_type": "stream",
     "text": [
      "Keypoints saved to keypoints_output\\train\\deaf\\WhatsApp Video 2024-07-05 at 1.04.37 PM.npz\n"
     ]
    },
    {
     "name": "stderr",
     "output_type": "stream",
     "text": [
      "Processing deaf in train:  92%|█████████▏| 23/25 [40:07<05:44, 172.23s/it]"
     ]
    },
    {
     "name": "stdout",
     "output_type": "stream",
     "text": [
      "Keypoints saved to keypoints_output\\train\\deaf\\WhatsApp Video 2024-07-05 at 12.02.48 PM - Copy.npz\n",
      "Keypoints saved to keypoints_output\\train\\deaf\\WhatsApp Video 2024-07-05 at 12.02.48 PM.npz\n"
     ]
    },
    {
     "name": "stderr",
     "output_type": "stream",
     "text": [
      "Processing deaf in train:  96%|█████████▌| 24/25 [43:04<02:53, 173.64s/it]"
     ]
    },
    {
     "name": "stdout",
     "output_type": "stream",
     "text": [
      "Keypoints saved to keypoints_output\\train\\deaf\\WhatsApp Video 2024-07-05 at 12.05.02 PM.npz\n"
     ]
    },
    {
     "name": "stderr",
     "output_type": "stream",
     "text": [
      "Processing drink in train:   0%|          | 0/21 [00:00<?, ?it/s]         "
     ]
    },
    {
     "name": "stdout",
     "output_type": "stream",
     "text": [
      "Keypoints saved to keypoints_output\\train\\drink\\17710 - Copy.npz\n"
     ]
    },
    {
     "name": "stderr",
     "output_type": "stream",
     "text": [
      "Processing drink in train:   5%|▍         | 1/21 [01:48<36:11, 108.58s/it]"
     ]
    },
    {
     "name": "stdout",
     "output_type": "stream",
     "text": [
      "Keypoints saved to keypoints_output\\train\\drink\\17710.npz\n"
     ]
    },
    {
     "name": "stderr",
     "output_type": "stream",
     "text": [
      "Processing drink in train:  14%|█▍        | 3/21 [05:46<35:26, 118.17s/it]"
     ]
    },
    {
     "name": "stdout",
     "output_type": "stream",
     "text": [
      "Keypoints saved to keypoints_output\\train\\drink\\17711.npz\n"
     ]
    },
    {
     "name": "stderr",
     "output_type": "stream",
     "text": [
      "Processing drink in train:  19%|█▉        | 4/21 [07:52<34:17, 121.06s/it]"
     ]
    },
    {
     "name": "stdout",
     "output_type": "stream",
     "text": [
      "Keypoints saved to keypoints_output\\train\\drink\\17713.npz\n"
     ]
    },
    {
     "name": "stderr",
     "output_type": "stream",
     "text": [
      "Processing drink in train:  24%|██▍       | 5/21 [08:57<26:53, 100.87s/it]"
     ]
    },
    {
     "name": "stdout",
     "output_type": "stream",
     "text": [
      "Keypoints saved to keypoints_output\\train\\drink\\17720.npz\n",
      "Keypoints saved to keypoints_output\\train\\drink\\17724 - Copy.npz\n"
     ]
    },
    {
     "name": "stderr",
     "output_type": "stream",
     "text": [
      "Processing drink in train:  29%|██▊       | 6/21 [09:44<20:41, 82.79s/it] "
     ]
    },
    {
     "name": "stdout",
     "output_type": "stream",
     "text": [
      "Keypoints saved to keypoints_output\\train\\drink\\17724.npz\n"
     ]
    },
    {
     "name": "stderr",
     "output_type": "stream",
     "text": [
      "Processing drink in train:  33%|███▎      | 7/21 [10:32<16:37, 71.25s/it]"
     ]
    },
    {
     "name": "stdout",
     "output_type": "stream",
     "text": [
      "Keypoints saved to keypoints_output\\train\\drink\\17733 - Copy.npz\n"
     ]
    },
    {
     "name": "stderr",
     "output_type": "stream",
     "text": [
      "Processing drink in train:  38%|███▊      | 8/21 [12:35<19:00, 87.71s/it]"
     ]
    },
    {
     "name": "stdout",
     "output_type": "stream",
     "text": [
      "Keypoints saved to keypoints_output\\train\\drink\\17733.npz\n"
     ]
    },
    {
     "name": "stderr",
     "output_type": "stream",
     "text": [
      "Processing drink in train:  43%|████▎     | 9/21 [14:37<19:42, 98.52s/it]"
     ]
    },
    {
     "name": "stdout",
     "output_type": "stream",
     "text": [
      "Keypoints saved to keypoints_output\\train\\drink\\65539.npz\n"
     ]
    },
    {
     "name": "stderr",
     "output_type": "stream",
     "text": [
      "Processing drink in train:  52%|█████▏    | 11/21 [18:07<17:15, 103.52s/it]"
     ]
    },
    {
     "name": "stdout",
     "output_type": "stream",
     "text": [
      "Keypoints saved to keypoints_output\\train\\drink\\69302 - Copy.npz\n",
      "Keypoints saved to keypoints_output\\train\\drink\\69302.npz\n"
     ]
    },
    {
     "name": "stderr",
     "output_type": "stream",
     "text": [
      "Processing drink in train:  57%|█████▋    | 12/21 [20:14<16:36, 110.72s/it]"
     ]
    },
    {
     "name": "stdout",
     "output_type": "stream",
     "text": [
      "Keypoints saved to keypoints_output\\train\\drink\\DRINK (1).npz\n"
     ]
    },
    {
     "name": "stderr",
     "output_type": "stream",
     "text": [
      "Processing drink in train:  62%|██████▏   | 13/21 [22:11<15:01, 112.74s/it]"
     ]
    },
    {
     "name": "stdout",
     "output_type": "stream",
     "text": [
      "Keypoints saved to keypoints_output\\train\\drink\\drink in ASL.npz\n"
     ]
    },
    {
     "name": "stderr",
     "output_type": "stream",
     "text": [
      "Processing drink in train:  67%|██████▋   | 14/21 [25:42<16:36, 142.36s/it]"
     ]
    },
    {
     "name": "stdout",
     "output_type": "stream",
     "text": [
      "Keypoints saved to keypoints_output\\train\\drink\\Learn How to Sign Drink in ASL _ LearnHowToSign - Copy (online-video-cutter.com).npz\n"
     ]
    },
    {
     "name": "stderr",
     "output_type": "stream",
     "text": [
      "Processing drink in train:  71%|███████▏  | 15/21 [27:44<13:36, 136.17s/it]"
     ]
    },
    {
     "name": "stdout",
     "output_type": "stream",
     "text": [
      "Keypoints saved to keypoints_output\\train\\drink\\WhatsApp Video 2024-06-06 at 6.47.29 PM.npz\n"
     ]
    },
    {
     "name": "stderr",
     "output_type": "stream",
     "text": [
      "Processing drink in train:  76%|███████▌  | 16/21 [28:23<08:55, 107.07s/it]"
     ]
    },
    {
     "name": "stdout",
     "output_type": "stream",
     "text": [
      "Keypoints saved to keypoints_output\\train\\drink\\WhatsApp Video 2024-06-06 at 6.47.31 PM.npz\n"
     ]
    },
    {
     "name": "stderr",
     "output_type": "stream",
     "text": [
      "Processing drink in train:  81%|████████  | 17/21 [29:19<06:05, 91.42s/it] "
     ]
    },
    {
     "name": "stdout",
     "output_type": "stream",
     "text": [
      "Keypoints saved to keypoints_output\\train\\drink\\WhatsApp Video 2024-06-06 at 6.47.33 PM.npz\n"
     ]
    },
    {
     "name": "stderr",
     "output_type": "stream",
     "text": [
      "Processing drink in train:  86%|████████▌ | 18/21 [30:28<04:14, 84.98s/it]"
     ]
    },
    {
     "name": "stdout",
     "output_type": "stream",
     "text": [
      "Keypoints saved to keypoints_output\\train\\drink\\WhatsApp Video 2024-07-05 at 1.05.12 PM.npz\n"
     ]
    },
    {
     "name": "stderr",
     "output_type": "stream",
     "text": [
      "Processing drink in train:  95%|█████████▌| 20/21 [34:25<01:41, 101.70s/it]"
     ]
    },
    {
     "name": "stdout",
     "output_type": "stream",
     "text": [
      "Keypoints saved to keypoints_output\\train\\drink\\WhatsApp Video 2024-07-05 at 10.54.47 AM.npz\n"
     ]
    },
    {
     "name": "stderr",
     "output_type": "stream",
     "text": [
      "                                                                           \r"
     ]
    },
    {
     "name": "stdout",
     "output_type": "stream",
     "text": [
      "Keypoints saved to keypoints_output\\train\\drink\\WhatsApp Video 2024-07-05 at 11.04.51 AM.npz\n"
     ]
    },
    {
     "name": "stderr",
     "output_type": "stream",
     "text": [
      "Processing fine in train:   0%|          | 0/21 [00:00<?, ?it/s]"
     ]
    },
    {
     "name": "stdout",
     "output_type": "stream",
     "text": [
      "Keypoints saved to keypoints_output\\train\\fine\\21870 - Copy (2).npz\n"
     ]
    },
    {
     "name": "stderr",
     "output_type": "stream",
     "text": [
      "Processing fine in train:   5%|▍         | 1/21 [01:39<33:16, 99.82s/it]"
     ]
    },
    {
     "name": "stdout",
     "output_type": "stream",
     "text": [
      "Keypoints saved to keypoints_output\\train\\fine\\21870 - Copy - Copy.npz\n"
     ]
    },
    {
     "name": "stderr",
     "output_type": "stream",
     "text": [
      "Processing fine in train:  14%|█▍        | 3/21 [05:02<30:24, 101.35s/it]"
     ]
    },
    {
     "name": "stdout",
     "output_type": "stream",
     "text": [
      "Keypoints saved to keypoints_output\\train\\fine\\21870 - Copy.npz\n",
      "Keypoints saved to keypoints_output\\train\\fine\\21871 - Copy - Copy.npz\n"
     ]
    },
    {
     "name": "stderr",
     "output_type": "stream",
     "text": [
      "Processing fine in train:  19%|█▉        | 4/21 [07:01<30:40, 108.25s/it]"
     ]
    },
    {
     "name": "stdout",
     "output_type": "stream",
     "text": [
      "Keypoints saved to keypoints_output\\train\\fine\\21871 - Copy.npz\n"
     ]
    },
    {
     "name": "stderr",
     "output_type": "stream",
     "text": [
      "Processing fine in train:  24%|██▍       | 5/21 [09:01<29:57, 112.37s/it]"
     ]
    },
    {
     "name": "stdout",
     "output_type": "stream",
     "text": [
      "Keypoints saved to keypoints_output\\train\\fine\\21871.npz\n"
     ]
    },
    {
     "name": "stderr",
     "output_type": "stream",
     "text": [
      "Processing fine in train:  33%|███▎      | 7/21 [13:01<27:13, 116.67s/it]"
     ]
    },
    {
     "name": "stdout",
     "output_type": "stream",
     "text": [
      "Keypoints saved to keypoints_output\\train\\fine\\21872.npz\n",
      "Keypoints saved to keypoints_output\\train\\fine\\21878 - Copy.npz\n"
     ]
    },
    {
     "name": "stderr",
     "output_type": "stream",
     "text": [
      "Processing fine in train:  38%|███▊      | 8/21 [14:02<21:25, 98.85s/it] "
     ]
    },
    {
     "name": "stdout",
     "output_type": "stream",
     "text": [
      "Keypoints saved to keypoints_output\\train\\fine\\21891.npz\n"
     ]
    },
    {
     "name": "stderr",
     "output_type": "stream",
     "text": [
      "Processing fine in train:  43%|████▎     | 9/21 [15:39<19:42, 98.50s/it]"
     ]
    },
    {
     "name": "stdout",
     "output_type": "stream",
     "text": [
      "Keypoints saved to keypoints_output\\train\\fine\\asl-fine_0k1tyVJL - Copy.npz\n"
     ]
    },
    {
     "name": "stderr",
     "output_type": "stream",
     "text": [
      "Processing fine in train:  48%|████▊     | 10/21 [16:48<16:21, 89.20s/it]"
     ]
    },
    {
     "name": "stdout",
     "output_type": "stream",
     "text": [
      "Keypoints saved to keypoints_output\\train\\fine\\asl-fine_0k1tyVJL.npz\n"
     ]
    },
    {
     "name": "stderr",
     "output_type": "stream",
     "text": [
      "Processing fine in train:  52%|█████▏    | 11/21 [17:56<13:48, 82.88s/it]"
     ]
    },
    {
     "name": "stdout",
     "output_type": "stream",
     "text": [
      "Keypoints saved to keypoints_output\\train\\fine\\sign-language-phrase-i-am-fine_GZuldEYh - Copy.npz\n"
     ]
    },
    {
     "name": "stderr",
     "output_type": "stream",
     "text": [
      "Processing fine in train:  62%|██████▏   | 13/21 [21:26<12:34, 94.28s/it]"
     ]
    },
    {
     "name": "stdout",
     "output_type": "stream",
     "text": [
      "Keypoints saved to keypoints_output\\train\\fine\\sign-language-phrase-i-am-fine_GZuldEYh.npz\n"
     ]
    },
    {
     "name": "stderr",
     "output_type": "stream",
     "text": [
      "Processing fine in train:  67%|██████▋   | 14/21 [24:02<13:10, 112.98s/it]"
     ]
    },
    {
     "name": "stdout",
     "output_type": "stream",
     "text": [
      "Keypoints saved to keypoints_output\\train\\fine\\WhatsApp Video 2024-07-05 at 1.04.39 PM.npz\n"
     ]
    },
    {
     "name": "stderr",
     "output_type": "stream",
     "text": [
      "Processing fine in train:  71%|███████▏  | 15/21 [26:24<12:09, 121.60s/it]"
     ]
    },
    {
     "name": "stdout",
     "output_type": "stream",
     "text": [
      "Keypoints saved to keypoints_output\\train\\fine\\WhatsApp Video 2024-07-05 at 12.02.34 PM - Copy (2).npz\n"
     ]
    },
    {
     "name": "stderr",
     "output_type": "stream",
     "text": [
      "Processing fine in train:  76%|███████▌  | 16/21 [28:46<10:38, 127.78s/it]"
     ]
    },
    {
     "name": "stdout",
     "output_type": "stream",
     "text": [
      "Keypoints saved to keypoints_output\\train\\fine\\WhatsApp Video 2024-07-05 at 12.02.34 PM - Copy - Copy.npz\n"
     ]
    },
    {
     "name": "stderr",
     "output_type": "stream",
     "text": [
      "Processing fine in train:  81%|████████  | 17/21 [31:09<08:49, 132.37s/it]"
     ]
    },
    {
     "name": "stdout",
     "output_type": "stream",
     "text": [
      "Keypoints saved to keypoints_output\\train\\fine\\WhatsApp Video 2024-07-05 at 12.02.34 PM - Copy.npz\n"
     ]
    },
    {
     "name": "stderr",
     "output_type": "stream",
     "text": [
      "Processing fine in train:  86%|████████▌ | 18/21 [33:32<06:46, 135.51s/it]"
     ]
    },
    {
     "name": "stdout",
     "output_type": "stream",
     "text": [
      "Keypoints saved to keypoints_output\\train\\fine\\WhatsApp Video 2024-07-05 at 12.02.34 PM.npz\n",
      "Keypoints saved to keypoints_output\\train\\fine\\WhatsApp Video 2024-07-05 at 12.05.27 PM - Copy.npz\n"
     ]
    },
    {
     "name": "stderr",
     "output_type": "stream",
     "text": [
      "Processing fine in train:  90%|█████████ | 19/21 [34:40<03:50, 115.30s/it]"
     ]
    },
    {
     "name": "stdout",
     "output_type": "stream",
     "text": [
      "Keypoints saved to keypoints_output\\train\\fine\\WhatsApp Video 2024-07-05 at 12.05.27 PM.npz\n"
     ]
    },
    {
     "name": "stderr",
     "output_type": "stream",
     "text": [
      "Processing fine in train:  95%|█████████▌| 20/21 [35:49<01:41, 101.27s/it]"
     ]
    },
    {
     "name": "stdout",
     "output_type": "stream",
     "text": [
      "Keypoints saved to keypoints_output\\train\\fine\\WhatsApp Video 2024-07-05 at 12.06.03 PM - Copy.npz\n"
     ]
    },
    {
     "name": "stderr",
     "output_type": "stream",
     "text": [
      "Processing food in train:   0%|          | 0/20 [00:00<?, ?it/s]          "
     ]
    },
    {
     "name": "stdout",
     "output_type": "stream",
     "text": [
      "Keypoints saved to keypoints_output\\train\\food\\22744.npz\n"
     ]
    },
    {
     "name": "stderr",
     "output_type": "stream",
     "text": [
      "Processing food in train:  10%|█         | 2/20 [03:31<32:10, 107.26s/it]"
     ]
    },
    {
     "name": "stdout",
     "output_type": "stream",
     "text": [
      "Keypoints saved to keypoints_output\\train\\food\\22745.npz\n"
     ]
    },
    {
     "name": "stderr",
     "output_type": "stream",
     "text": [
      "Processing food in train:  15%|█▌        | 3/20 [05:41<33:20, 117.66s/it]"
     ]
    },
    {
     "name": "stdout",
     "output_type": "stream",
     "text": [
      "Keypoints saved to keypoints_output\\train\\food\\22746 - Copy (2).npz\n",
      "Keypoints saved to keypoints_output\\train\\food\\22746 - Copy - Copy.npz\n"
     ]
    },
    {
     "name": "stderr",
     "output_type": "stream",
     "text": [
      "Processing food in train:  20%|██        | 4/20 [07:49<32:27, 121.73s/it]"
     ]
    },
    {
     "name": "stdout",
     "output_type": "stream",
     "text": [
      "Keypoints saved to keypoints_output\\train\\food\\22746 - Copy.npz\n"
     ]
    },
    {
     "name": "stderr",
     "output_type": "stream",
     "text": [
      "Processing food in train:  25%|██▌       | 5/20 [10:01<31:19, 125.28s/it]"
     ]
    },
    {
     "name": "stdout",
     "output_type": "stream",
     "text": [
      "Keypoints saved to keypoints_output\\train\\food\\22748 - Copy (2).npz\n"
     ]
    },
    {
     "name": "stderr",
     "output_type": "stream",
     "text": [
      "Processing food in train:  30%|███       | 6/20 [11:17<25:18, 108.46s/it]"
     ]
    },
    {
     "name": "stdout",
     "output_type": "stream",
     "text": [
      "Keypoints saved to keypoints_output\\train\\food\\22748 - Copy - Copy.npz\n"
     ]
    },
    {
     "name": "stderr",
     "output_type": "stream",
     "text": [
      "Processing food in train:  35%|███▌      | 7/20 [12:33<21:12, 97.90s/it] "
     ]
    },
    {
     "name": "stdout",
     "output_type": "stream",
     "text": [
      "Keypoints saved to keypoints_output\\train\\food\\22748 - Copy.npz\n"
     ]
    },
    {
     "name": "stderr",
     "output_type": "stream",
     "text": [
      "Processing food in train:  40%|████      | 8/20 [13:48<18:08, 90.70s/it]"
     ]
    },
    {
     "name": "stdout",
     "output_type": "stream",
     "text": [
      "Keypoints saved to keypoints_output\\train\\food\\22748.npz\n"
     ]
    },
    {
     "name": "stderr",
     "output_type": "stream",
     "text": [
      "Processing food in train:  50%|█████     | 10/20 [16:49<15:18, 91.86s/it]"
     ]
    },
    {
     "name": "stdout",
     "output_type": "stream",
     "text": [
      "Keypoints saved to keypoints_output\\train\\food\\22750 - Copy (2).npz\n",
      "Keypoints saved to keypoints_output\\train\\food\\22750 - Copy.npz\n"
     ]
    },
    {
     "name": "stderr",
     "output_type": "stream",
     "text": [
      "Processing food in train:  55%|█████▌    | 11/20 [18:35<14:26, 96.25s/it]"
     ]
    },
    {
     "name": "stdout",
     "output_type": "stream",
     "text": [
      "Keypoints saved to keypoints_output\\train\\food\\WhatsApp Video 2024-06-06 at 6.46.36 PM - Copy (2).npz\n"
     ]
    },
    {
     "name": "stderr",
     "output_type": "stream",
     "text": [
      "Processing food in train:  60%|██████    | 12/20 [19:29<11:06, 83.36s/it]"
     ]
    },
    {
     "name": "stdout",
     "output_type": "stream",
     "text": [
      "Keypoints saved to keypoints_output\\train\\food\\WhatsApp Video 2024-06-06 at 6.46.36 PM - Copy (3).npz\n"
     ]
    },
    {
     "name": "stderr",
     "output_type": "stream",
     "text": [
      "Processing food in train:  65%|██████▌   | 13/20 [20:23<08:41, 74.45s/it]"
     ]
    },
    {
     "name": "stdout",
     "output_type": "stream",
     "text": [
      "Keypoints saved to keypoints_output\\train\\food\\WhatsApp Video 2024-06-06 at 6.46.36 PM - Copy (4).npz\n"
     ]
    },
    {
     "name": "stderr",
     "output_type": "stream",
     "text": [
      "Processing food in train:  70%|███████   | 14/20 [21:17<06:49, 68.25s/it]"
     ]
    },
    {
     "name": "stdout",
     "output_type": "stream",
     "text": [
      "Keypoints saved to keypoints_output\\train\\food\\WhatsApp Video 2024-06-06 at 6.46.36 PM - Copy.npz\n"
     ]
    },
    {
     "name": "stderr",
     "output_type": "stream",
     "text": [
      "Processing food in train:  75%|███████▌  | 15/20 [22:11<05:19, 63.90s/it]"
     ]
    },
    {
     "name": "stdout",
     "output_type": "stream",
     "text": [
      "Keypoints saved to keypoints_output\\train\\food\\WhatsApp Video 2024-06-06 at 6.46.36 PM.npz\n"
     ]
    },
    {
     "name": "stderr",
     "output_type": "stream",
     "text": [
      "Processing food in train:  85%|████████▌ | 17/20 [24:14<03:10, 63.41s/it]"
     ]
    },
    {
     "name": "stdout",
     "output_type": "stream",
     "text": [
      "Keypoints saved to keypoints_output\\train\\food\\WhatsApp Video 2024-06-06 at 6.46.38 PM - Copy - Copy (3).npz\n",
      "Keypoints saved to keypoints_output\\train\\food\\WhatsApp Video 2024-06-06 at 6.46.38 PM - Copy - Copy.npz\n"
     ]
    },
    {
     "name": "stderr",
     "output_type": "stream",
     "text": [
      "Processing food in train:  95%|█████████▌| 19/20 [27:53<01:30, 90.51s/it]"
     ]
    },
    {
     "name": "stdout",
     "output_type": "stream",
     "text": [
      "Keypoints saved to keypoints_output\\train\\food\\WhatsApp Video 2024-07-05 at 1.05.29 PM.npz\n"
     ]
    },
    {
     "name": "stderr",
     "output_type": "stream",
     "text": [
      "                                                                          \r"
     ]
    },
    {
     "name": "stdout",
     "output_type": "stream",
     "text": [
      "Keypoints saved to keypoints_output\\train\\food\\WhatsApp Video 2024-07-05 at 11.02.16 AM.npz\n"
     ]
    },
    {
     "name": "stderr",
     "output_type": "stream",
     "text": [
      "Processing go in train:   0%|          | 0/20 [00:00<?, ?it/s]"
     ]
    },
    {
     "name": "stdout",
     "output_type": "stream",
     "text": [
      "Keypoints saved to keypoints_output\\train\\go\\24941 - Copy.npz\n"
     ]
    },
    {
     "name": "stderr",
     "output_type": "stream",
     "text": [
      "Processing go in train:   5%|▌         | 1/20 [01:45<33:18, 105.17s/it]"
     ]
    },
    {
     "name": "stdout",
     "output_type": "stream",
     "text": [
      "Keypoints saved to keypoints_output\\train\\go\\24941.npz\n"
     ]
    },
    {
     "name": "stderr",
     "output_type": "stream",
     "text": [
      "Processing go in train:  10%|█         | 2/20 [03:37<32:52, 109.60s/it]"
     ]
    },
    {
     "name": "stdout",
     "output_type": "stream",
     "text": [
      "Keypoints saved to keypoints_output\\train\\go\\24943 - Copy (2).npz\n"
     ]
    },
    {
     "name": "stderr",
     "output_type": "stream",
     "text": [
      "Processing go in train:  15%|█▌        | 3/20 [05:15<29:29, 104.11s/it]"
     ]
    },
    {
     "name": "stdout",
     "output_type": "stream",
     "text": [
      "Keypoints saved to keypoints_output\\train\\go\\24943 - Copy.npz\n"
     ]
    },
    {
     "name": "stderr",
     "output_type": "stream",
     "text": [
      "Processing go in train:  20%|██        | 4/20 [06:53<27:05, 101.62s/it]"
     ]
    },
    {
     "name": "stdout",
     "output_type": "stream",
     "text": [
      "Keypoints saved to keypoints_output\\train\\go\\24946 - Copy.npz\n"
     ]
    },
    {
     "name": "stderr",
     "output_type": "stream",
     "text": [
      "Processing go in train:  30%|███       | 6/20 [09:40<21:35, 92.57s/it] "
     ]
    },
    {
     "name": "stdout",
     "output_type": "stream",
     "text": [
      "Keypoints saved to keypoints_output\\train\\go\\24947 - Copy.npz\n"
     ]
    },
    {
     "name": "stderr",
     "output_type": "stream",
     "text": [
      "                                                                      \r"
     ]
    },
    {
     "ename": "KeyboardInterrupt",
     "evalue": "",
     "output_type": "error",
     "traceback": [
      "\u001b[1;31m---------------------------------------------------------------------------\u001b[0m",
      "\u001b[1;31mKeyboardInterrupt\u001b[0m                         Traceback (most recent call last)",
      "Cell \u001b[1;32mIn[22], line 109\u001b[0m\n\u001b[0;32m    107\u001b[0m \u001b[38;5;66;03m# Process train, val, and test directories\u001b[39;00m\n\u001b[0;32m    108\u001b[0m \u001b[38;5;28;01mfor\u001b[39;00m subdir \u001b[38;5;129;01min\u001b[39;00m [\u001b[38;5;124m'\u001b[39m\u001b[38;5;124mtrain\u001b[39m\u001b[38;5;124m'\u001b[39m, \u001b[38;5;124m'\u001b[39m\u001b[38;5;124mval\u001b[39m\u001b[38;5;124m'\u001b[39m, \u001b[38;5;124m'\u001b[39m\u001b[38;5;124mtest\u001b[39m\u001b[38;5;124m'\u001b[39m]:\n\u001b[1;32m--> 109\u001b[0m     \u001b[43mprocess_directory\u001b[49m\u001b[43m(\u001b[49m\u001b[43msubdir\u001b[49m\u001b[43m)\u001b[49m\n\u001b[0;32m    115\u001b[0m \u001b[38;5;66;03m#CNN AND LSTM \u001b[39;00m\n\u001b[0;32m    117\u001b[0m \u001b[38;5;28;01mimport\u001b[39;00m \u001b[38;5;21;01mos\u001b[39;00m\n",
      "Cell \u001b[1;32mIn[22], line 105\u001b[0m, in \u001b[0;36mprocess_directory\u001b[1;34m(dataset_subdir)\u001b[0m\n\u001b[0;32m    103\u001b[0m video_path \u001b[38;5;241m=\u001b[39m os\u001b[38;5;241m.\u001b[39mpath\u001b[38;5;241m.\u001b[39mjoin(class_dir, video_name)\n\u001b[0;32m    104\u001b[0m output_file_path \u001b[38;5;241m=\u001b[39m os\u001b[38;5;241m.\u001b[39mpath\u001b[38;5;241m.\u001b[39mjoin(output_class_dir, os\u001b[38;5;241m.\u001b[39mpath\u001b[38;5;241m.\u001b[39msplitext(video_name)[\u001b[38;5;241m0\u001b[39m] \u001b[38;5;241m+\u001b[39m \u001b[38;5;124m'\u001b[39m\u001b[38;5;124m.npz\u001b[39m\u001b[38;5;124m'\u001b[39m)\n\u001b[1;32m--> 105\u001b[0m \u001b[43mprocess_video\u001b[49m\u001b[43m(\u001b[49m\u001b[43mvideo_path\u001b[49m\u001b[43m,\u001b[49m\u001b[43m \u001b[49m\u001b[43moutput_file_path\u001b[49m\u001b[43m)\u001b[49m\n",
      "Cell \u001b[1;32mIn[22], line 73\u001b[0m, in \u001b[0;36mprocess_video\u001b[1;34m(video_path, output_path, width, height, threshold, fps)\u001b[0m\n\u001b[0;32m     70\u001b[0m     \u001b[38;5;28;01mbreak\u001b[39;00m\n\u001b[0;32m     72\u001b[0m \u001b[38;5;28;01mif\u001b[39;00m frame_count \u001b[38;5;241m%\u001b[39m sample_rate \u001b[38;5;241m==\u001b[39m \u001b[38;5;241m0\u001b[39m:\n\u001b[1;32m---> 73\u001b[0m     body_keypoints \u001b[38;5;241m=\u001b[39m \u001b[43mget_keypoints\u001b[49m\u001b[43m(\u001b[49m\u001b[43mnet_body\u001b[49m\u001b[43m,\u001b[49m\u001b[43m \u001b[49m\u001b[43mframe\u001b[49m\u001b[43m,\u001b[49m\u001b[43m \u001b[49m\u001b[43mwidth\u001b[49m\u001b[43m,\u001b[49m\u001b[43m \u001b[49m\u001b[43mheight\u001b[49m\u001b[43m,\u001b[49m\u001b[43m \u001b[49m\u001b[43mthreshold\u001b[49m\u001b[43m,\u001b[49m\u001b[43m \u001b[49m\u001b[38;5;28;43mlen\u001b[39;49m\u001b[43m(\u001b[49m\u001b[43mBODY_PARTS\u001b[49m\u001b[43m)\u001b[49m\u001b[43m)\u001b[49m\n\u001b[0;32m     74\u001b[0m     hand_keypoints \u001b[38;5;241m=\u001b[39m get_keypoints(net_hand, frame, width, height, threshold, HAND_PARTS)\n\u001b[0;32m     75\u001b[0m     face_keypoints \u001b[38;5;241m=\u001b[39m get_keypoints(net_face, frame, width, height, threshold, FACE_PARTS)\n",
      "Cell \u001b[1;32mIn[22], line 45\u001b[0m, in \u001b[0;36mget_keypoints\u001b[1;34m(net, frame, width, height, threshold, num_parts)\u001b[0m\n\u001b[0;32m     43\u001b[0m \u001b[38;5;28;01mdef\u001b[39;00m \u001b[38;5;21mget_keypoints\u001b[39m(net, frame, width, height, threshold, num_parts):\n\u001b[0;32m     44\u001b[0m     net\u001b[38;5;241m.\u001b[39msetInput(cv\u001b[38;5;241m.\u001b[39mdnn\u001b[38;5;241m.\u001b[39mblobFromImage(frame, \u001b[38;5;241m1.0\u001b[39m, (width, height), (\u001b[38;5;241m127.5\u001b[39m, \u001b[38;5;241m127.5\u001b[39m, \u001b[38;5;241m127.5\u001b[39m), swapRB\u001b[38;5;241m=\u001b[39m\u001b[38;5;28;01mTrue\u001b[39;00m, crop\u001b[38;5;241m=\u001b[39m\u001b[38;5;28;01mFalse\u001b[39;00m))\n\u001b[1;32m---> 45\u001b[0m     out \u001b[38;5;241m=\u001b[39m \u001b[43mnet\u001b[49m\u001b[38;5;241;43m.\u001b[39;49m\u001b[43mforward\u001b[49m\u001b[43m(\u001b[49m\u001b[43m)\u001b[49m\n\u001b[0;32m     46\u001b[0m     points \u001b[38;5;241m=\u001b[39m []\n\u001b[0;32m     47\u001b[0m     \u001b[38;5;28;01mfor\u001b[39;00m i \u001b[38;5;129;01min\u001b[39;00m \u001b[38;5;28mrange\u001b[39m(num_parts):\n",
      "\u001b[1;31mKeyboardInterrupt\u001b[0m: "
     ]
    }
   ],
   "source": [
    "import cv2 as cv\n",
    "import numpy as np\n",
    "import os\n",
    "from tqdm import tqdm\n",
    "\n",
    "# Directory structure configuration\n",
    "dataset_dir = 'split_videos'\n",
    "output_dir = 'keypoints_output'\n",
    "\n",
    "# Ensure the output directory exists\n",
    "os.makedirs(output_dir, exist_ok=True)\n",
    "\n",
    "BODY_PARTS = {\"Nose\": 0, \"Neck\": 1, \"RShoulder\": 2, \"RElbow\": 3, \"RWrist\": 4,\n",
    "              \"LShoulder\": 5, \"LElbow\": 6, \"LWrist\": 7, \"RHip\": 8, \"RKnee\": 9,\n",
    "              \"RAnkle\": 10, \"LHip\": 11, \"LKnee\": 12, \"LAnkle\": 13, \"REye\": 14,\n",
    "              \"LEye\": 15, \"REar\": 16, \"LEar\": 17, \"Background\": 18}\n",
    "\n",
    "HAND_PARTS = 22\n",
    "FACE_PARTS = 70\n",
    "\n",
    "# Model paths\n",
    "body_proto = \"body/pose_deploy_linevec.prototxt\"\n",
    "body_model = \"body/pose_iter_440000.caffemodel\"\n",
    "hand_proto = \"hand/pose_deploy.prototxt\"\n",
    "hand_model = \"hand/pose_iter_102000.caffemodel\"\n",
    "face_proto = \"face/pose_deploy.prototxt\"\n",
    "face_model = \"face/pose_iter_116000.caffemodel\"\n",
    "\n",
    "def check_file_exists(filepath):\n",
    "    if os.path.isfile(filepath):\n",
    "        print(f\"Found: {filepath}\")\n",
    "    else:\n",
    "        print(f\"Not Found: {filepath}\")\n",
    "        raise FileNotFoundError(f\"File not found: {filepath}\")\n",
    "\n",
    "check_file_exists(body_proto)\n",
    "check_file_exists(body_model)\n",
    "check_file_exists(hand_proto)\n",
    "check_file_exists(hand_model)\n",
    "check_file_exists(face_proto)\n",
    "check_file_exists(face_model)\n",
    "\n",
    "def get_keypoints(net, frame, width, height, threshold, num_parts):\n",
    "    net.setInput(cv.dnn.blobFromImage(frame, 1.0, (width, height), (127.5, 127.5, 127.5), swapRB=True, crop=False))\n",
    "    out = net.forward()\n",
    "    points = []\n",
    "    for i in range(num_parts):\n",
    "        heatMap = out[0, i, :, :]\n",
    "        _, conf, _, point = cv.minMaxLoc(heatMap)\n",
    "        x = (frame.shape[1] * point[0]) / out.shape[3]\n",
    "        y = (frame.shape[0] * point[1]) / out.shape[2]\n",
    "        points.append((int(x), int(y)) if conf > threshold else None)\n",
    "    return points\n",
    "\n",
    "def process_video(video_path, output_path, width=368, height=368, threshold=0.2, fps=5):\n",
    "    # Load models within the function to avoid pickling issues\n",
    "    net_body = cv.dnn.readNetFromCaffe(body_proto, body_model)\n",
    "    net_hand = cv.dnn.readNetFromCaffe(hand_proto, hand_model)\n",
    "    net_face = cv.dnn.readNetFromCaffe(face_proto, face_model)\n",
    "\n",
    "    cap = cv.VideoCapture(video_path)\n",
    "    keypoints_data = []\n",
    "    frame_count = 0\n",
    "    frame_rate = cap.get(cv.CAP_PROP_FPS)\n",
    "    sample_rate = int(frame_rate / fps)\n",
    "\n",
    "    while True:\n",
    "        hasFrame, frame = cap.read()\n",
    "        if not hasFrame:\n",
    "            break\n",
    "\n",
    "        if frame_count % sample_rate == 0:\n",
    "            body_keypoints = get_keypoints(net_body, frame, width, height, threshold, len(BODY_PARTS))\n",
    "            hand_keypoints = get_keypoints(net_hand, frame, width, height, threshold, HAND_PARTS)\n",
    "            face_keypoints = get_keypoints(net_face, frame, width, height, threshold, FACE_PARTS)\n",
    "\n",
    "            keypoints_data.append({\n",
    "                'body': body_keypoints,\n",
    "                'hands': hand_keypoints,\n",
    "                'face': face_keypoints\n",
    "            })\n",
    "        \n",
    "        frame_count += 1\n",
    "\n",
    "    cap.release()\n",
    "    \n",
    "    # Save the keypoints to a file\n",
    "    np.savez(output_path, keypoints=keypoints_data)\n",
    "    print(f\"Keypoints saved to {output_path}\")\n",
    "\n",
    "def process_directory(dataset_subdir):\n",
    "    dataset_path = os.path.join(dataset_dir, dataset_subdir)\n",
    "    output_path = os.path.join(output_dir, dataset_subdir)\n",
    "    os.makedirs(output_path, exist_ok=True)\n",
    "    \n",
    "    class_names = os.listdir(dataset_path)\n",
    "    for class_name in class_names:\n",
    "        class_dir = os.path.join(dataset_path, class_name)\n",
    "        output_class_dir = os.path.join(output_path, class_name)\n",
    "        os.makedirs(output_class_dir, exist_ok=True)\n",
    "        \n",
    "        for video_name in tqdm(os.listdir(class_dir), desc=f'Processing {class_name} in {dataset_subdir}', leave=False):\n",
    "            video_path = os.path.join(class_dir, video_name)\n",
    "            output_file_path = os.path.join(output_class_dir, os.path.splitext(video_name)[0] + '.npz')\n",
    "            process_video(video_path, output_file_path)\n",
    "\n",
    "# Process train, val, and test directories\n",
    "for subdir in ['train', 'val', 'test']:\n",
    "    process_directory(subdir)\n",
    "\n",
    "\n",
    "\n",
    "\n",
    "\n",
    "#CNN AND LSTM \n",
    "\n",
    "import os\n",
    "import numpy as np\n",
    "from tensorflow.keras.utils import to_categorical\n",
    "from tensorflow.keras.preprocessing.sequence import pad_sequences\n",
    "import tensorflow as tf\n",
    "from tensorflow.keras import layers, models\n",
    "from tensorflow.keras.optimizers import Adam\n",
    "import matplotlib.pyplot as plt\n",
    "from sklearn.metrics import classification_report, confusion_matrix\n",
    "import seaborn as sns\n",
    "\n",
    "def extract_keypoints(data):\n",
    "    keypoints = []\n",
    "    for frame in data:\n",
    "        frame_keypoints = []\n",
    "        for part in frame['body']:\n",
    "            if part is not None:\n",
    "                frame_keypoints.extend([part[0], part[1], part[2] if len(part) > 2 else 1])\n",
    "            else:\n",
    "                frame_keypoints.extend([0, 0, 0])\n",
    "        keypoints.append(frame_keypoints)\n",
    "    return keypoints\n",
    "\n",
    "def load_data(base_dir, class_names, max_len):\n",
    "    X, y = [], []\n",
    "    for class_index, class_name in enumerate(class_names):\n",
    "        class_dir = os.path.join(base_dir, class_name)\n",
    "        if os.path.isdir(class_dir):  # Ensure it's a directory\n",
    "            for file_name in os.listdir(class_dir):\n",
    "                if file_name.endswith('.npz'):\n",
    "                    file_path = os.path.join(class_dir, file_name)\n",
    "                    data = np.load(file_path, allow_pickle=True)['keypoints']\n",
    "                    keypoints = extract_keypoints(data)\n",
    "                    X.append(keypoints)\n",
    "                    y.append(class_index)\n",
    "    \n",
    "    # Pad sequences to the same length\n",
    "    X = pad_sequences(X, maxlen=max_len, padding='post', dtype='float32')\n",
    "    y = np.array(y)\n",
    "    y = to_categorical(y, num_classes=len(class_names))\n",
    "    return np.array(X), y\n",
    "\n",
    "def create_cnn_lstm_model(input_shape, num_classes):\n",
    "    model = models.Sequential()\n",
    "    \n",
    "    model.add(layers.TimeDistributed(layers.Conv2D(64, (3, 3), activation='relu', padding='same'), input_shape=input_shape))\n",
    "    model.add(layers.TimeDistributed(layers.MaxPooling2D((2, 2), padding='same')))\n",
    "    \n",
    "    model.add(layers.TimeDistributed(layers.Conv2D(128, (3, 3), activation='relu', padding='same')))\n",
    "    model.add(layers.TimeDistributed(layers.MaxPooling2D((2, 2), padding='same')))\n",
    "    \n",
    "    model.add(layers.TimeDistributed(layers.Conv2D(256, (3, 3), activation='relu', padding='same')))\n",
    "    model.add(layers.TimeDistributed(layers.MaxPooling2D((2, 2), padding='same')))\n",
    "    \n",
    "    model.add(layers.TimeDistributed(layers.Flatten()))\n",
    "    model.add(layers.TimeDistributed(layers.Dense(256, activation='relu')))\n",
    "    model.add(layers.TimeDistributed(layers.Dropout(0.5)))\n",
    "    \n",
    "    model.add(layers.LSTM(64, return_sequences=True))\n",
    "    model.add(layers.LSTM(64))\n",
    "    \n",
    "    model.add(layers.Dense(num_classes, activation='softmax'))\n",
    "    \n",
    "    return model\n",
    "\n",
    "# Main script\n",
    "train_dir = 'keypoints_output/train'\n",
    "val_dir = 'keypoints_output/val'\n",
    "test_dir = 'keypoints_output/test'\n",
    "\n",
    "class_names = os.listdir(train_dir)\n",
    "\n",
    "# Determine the maximum sequence length\n",
    "max_len = 0\n",
    "for class_name in class_names:\n",
    "    class_dir = os.path.join(train_dir, class_name)\n",
    "    if os.path.isdir(class_dir):  # Ensure it's a directory\n",
    "        for file_name in os.listdir(class_dir):\n",
    "            if file_name.endswith('.npz'):\n",
    "                file_path = os.path.join(class_dir, file_name)\n",
    "                data = np.load(file_path, allow_pickle=True)['keypoints']\n",
    "                if len(data) > max_len:\n",
    "                    max_len = len(data)\n",
    "\n",
    "X_train, y_train = load_data(train_dir, class_names, max_len)\n",
    "X_val, y_val = load_data(val_dir, class_names, max_len)\n",
    "X_test, y_test = load_data(test_dir, class_names, max_len)\n",
    "\n",
    "print(f\"Training data shape: {X_train.shape}, {y_train.shape}\")\n",
    "print(f\"Validation data shape: {X_val.shape}, {y_val.shape}\")\n",
    "print(f\"Test data shape: {X_test.shape}, {y_test.shape}\")\n",
    "\n",
    "# Define the input shape\n",
    "num_frames = X_train.shape[1]\n",
    "num_keypoints = X_train.shape[2] // 3  # Assuming each keypoint has 3 values (x, y, confidence)\n",
    "height = 1\n",
    "width = num_keypoints * 3\n",
    "channels = 1\n",
    "\n",
    "input_shape = (num_frames, height, width, channels)\n",
    "num_classes = len(class_names)\n",
    "\n",
    "model = create_cnn_lstm_model(input_shape, num_classes)\n",
    "\n",
    "# Adjust the learning rate\n",
    "learning_rate = 0.0001  # Try a lower learning rate\n",
    "optimizer = Adam(learning_rate=learning_rate)\n",
    "\n",
    "model.compile(optimizer=optimizer, loss='categorical_crossentropy', metrics=['accuracy'])\n",
    "\n",
    "model.summary()\n",
    "\n",
    "# Define a callback to save the model after every epoch\n",
    "checkpoint_cb = tf.keras.callbacks.ModelCheckpoint(\"model_epoch_{epoch:02d}.h5\", save_best_only=False)\n",
    "\n",
    "# Reshape your data to the shape (num_samples, num_frames, height, width, channels)\n",
    "X_train = X_train.reshape((X_train.shape[0], num_frames, height, width, channels))\n",
    "X_val = X_val.reshape((X_val.shape[0], num_frames, height, width, channels))\n",
    "X_test = X_test.reshape((X_test.shape[0], num_frames, height, width, channels))\n",
    "\n",
    "# Training the model\n",
    "history = model.fit(X_train, y_train, validation_data=(X_val, y_val), epochs=10, batch_size=8, callbacks=[checkpoint_cb])\n",
    "\n",
    "# Evaluating the model\n",
    "test_loss, test_acc = model.evaluate(X_test, y_test)\n",
    "print(f\"Test accuracy: {test_acc}\")\n",
    "\n",
    "# Plotting accuracy and loss\n",
    "plt.figure(figsize=(12, 4))\n",
    "plt.subplot(1, 2, 1)\n",
    "plt.plot(history.history['accuracy'], label='train_accuracy')\n",
    "plt.plot(history.history['val_accuracy'], label='val_accuracy')\n",
    "plt.title('Model Accuracy')\n",
    "plt.xlabel('Epochs')\n",
    "plt.ylabel('Accuracy')\n",
    "plt.legend()\n",
    "\n",
    "plt.subplot(1, 2, 2)\n",
    "plt.plot(history.history['loss'], label='train_loss')\n",
    "plt.plot(history.history['val_loss'], label='val_loss')\n",
    "plt.title('Model Loss')\n",
    "plt.xlabel('Epochs')\n",
    "plt.ylabel('Loss')\n",
    "plt.legend()\n",
    "plt.show()\n",
    "\n",
    "# Predicting the test data\n",
    "y_pred = model.predict(X_test)\n",
    "y_pred_classes = np.argmax(y_pred, axis=1)\n",
    "y_true = np.argmax(y_test, axis=1)\n",
    "\n",
    "# Generating the classification report\n",
    "print(classification_report(y_true, y_pred_classes, target_names=class_names))\n",
    "\n",
    "# Confusion matrix\n",
    "conf_matrix = confusion_matrix(y_true, y_pred_classes)\n",
    "\n",
    "plt.figure(figsize=(10, 8))\n",
    "sns.heatmap(conf_matrix, annot=True, fmt='d', cmap='Blues', xticklabels=class_names, yticklabels=class_names)\n",
    "plt.title('Confusion Matrix')\n",
    "plt.xlabel('Predicted')\n",
    "plt.ylabel('True')\n",
    "plt.show()\n",
    "\n",
    "# Compute precision, recall, F1-score\n",
    "report = classification_report(y_true, y_pred_classes, target_names=class_names, output_dict=True)\n",
    "precision = report['weighted avg']['precision']\n",
    "recall = report['weighted avg']['recall']\n",
    "f1_score = report['weighted avg']['f1-score']\n",
    "\n",
    "print(f\"Precision: {precision}\")\n",
    "print(f\"Recall: {recall}\")\n",
    "print(f\"F1 Score: {f1_score}\")\n"
   ]
  }
 ],
 "metadata": {
  "kernelspec": {
   "display_name": "Python 3",
   "language": "python",
   "name": "python3"
  },
  "language_info": {
   "codemirror_mode": {
    "name": "ipython",
    "version": 3
   },
   "file_extension": ".py",
   "mimetype": "text/x-python",
   "name": "python",
   "nbconvert_exporter": "python",
   "pygments_lexer": "ipython3",
   "version": "3.10.2"
  }
 },
 "nbformat": 4,
 "nbformat_minor": 2
}
